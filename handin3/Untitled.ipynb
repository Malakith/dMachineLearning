{
 "cells": [
  {
   "cell_type": "code",
   "execution_count": 1,
   "metadata": {
    "collapsed": false
   },
   "outputs": [
    {
     "name": "stdout",
     "output_type": "stream",
     "text": [
      "[1.000 1.000 1.000 1.000 1.000 1.000 1.000 1.000 1.000 1.000 1.000 1.000\n",
      " 1.000 1.000 1.000 1.000 1.000 1.000 1.000 1.000 1.000 1.000 1.000 1.000\n",
      " 1.000 1.000 1.000 1.000 1.000 1.000 1.000 1.000 1.000 1.000 1.000 1.000\n",
      " 1.000 1.000 1.000 1.000 1.000 1.000 1.000 1.000 1.000 1.000 1.000 1.000\n",
      " 1.000 1.000 1.000 1.000 1.000 1.000 1.000 1.000 1.000 1.000 1.000 1.000\n",
      " 1.000 1.000 1.000 1.000 1.000 1.000 1.000 1.000 1.000 1.000 1.000 1.000\n",
      " 1.000 1.000 1.000 1.000 1.000 1.000 1.000 1.000 1.000 1.000 1.000 1.000\n",
      " 1.000 1.000 1.000 1.000 1.000 1.000 1.000 1.000 1.000 1.000 1.000 1.000\n",
      " 1.000 1.000 1.000 1.000 1.000 1.000 1.000 1.000 1.000 1.000 1.000 1.000\n",
      " 1.000 1.000 1.000 1.000 1.000 1.000 1.000 1.000 1.000 1.000 1.000 1.000\n",
      " 1.000 1.000 1.000 1.000 1.000 1.000 1.000 1.000 1.000 1.000 1.000 1.000\n",
      " 1.000 1.000 1.000 1.000 1.000 1.000 1.000 1.000 1.000 1.000 1.000 1.000\n",
      " 1.000 1.000 1.000 1.000 1.000 1.000 1.000 1.000 1.000 1.000 1.000 1.000\n",
      " 1.000 1.000 1.000 1.000 1.000 1.000 1.000 1.000 1.000 1.000 1.000 1.000\n",
      " 1.000 1.000 1.000 1.000 1.000 1.000 1.000 1.000 1.000 1.000 1.000 1.000\n",
      " 1.000 1.000 1.000 1.000 1.000 1.000 1.000 1.000 1.000 1.000 1.000 1.000\n",
      " 1.000 1.000 1.000 1.000 1.000 1.000 1.000 1.000 1.000 1.000 1.000 1.000\n",
      " 1.000 1.000 1.000 1.000 1.000 1.000 1.000 1.000 1.000 1.000 1.000 1.000\n",
      " 1.000 1.000 1.000 1.000 1.000 1.000 1.000 1.000 1.000 1.000 1.000 1.000\n",
      " 1.000 1.000 1.000 1.000 1.000 1.000 1.000 1.000 1.000 1.000 1.000 1.000\n",
      " 1.000 1.000 1.000 1.000 1.000 1.000 1.000 1.000 1.000 1.000 1.000 1.000\n",
      " 1.000 1.000 1.000 1.000 1.000 1.000 1.000 1.000 1.000 1.000 1.000 1.000\n",
      " 1.000 1.000 1.000 1.000 1.000 1.000 1.000 1.000 1.000 1.000 1.000 1.000\n",
      " 1.000 1.000 1.000 1.000 1.000 1.000 1.000 1.000 1.000 1.000 1.000 1.000\n",
      " 1.000 1.000 1.000 1.000 1.000 1.000 1.000 1.000 1.000 1.000 1.000 1.000\n",
      " 1.000 1.000 1.000 1.000 1.000 1.000 1.000 1.000 1.000 1.000 1.000 1.000\n",
      " 1.000 1.000 1.000 1.000 1.000 1.000 1.000 1.000 1.000 1.000 1.000 1.000\n",
      " 1.000 1.000 1.000 1.000 1.000 1.000 1.000 1.000 1.000 1.000 1.000 1.000\n",
      " 1.000 1.000 1.000 1.000 1.000 1.000 1.000 1.000 1.000 1.000 1.000 1.000\n",
      " 1.000 1.000 1.000 1.000 1.000 1.000 1.000 1.000 1.000 1.000 1.000 1.000\n",
      " 1.000 1.000 1.000 1.000 1.000 1.000 1.000 1.000 1.000 1.000 1.000 1.000\n",
      " 1.000 1.000 1.000 1.000 1.000 1.000 1.000 1.000 1.000 1.000 1.000 1.000\n",
      " 1.000 1.000 1.000 1.000 1.000 1.000 1.000 1.000 1.000 1.000 1.000 1.000\n",
      " 1.000 1.000 1.000 1.000 1.000 1.000 1.000 1.000 1.000 1.000 1.000 1.000\n",
      " 1.000 1.000 1.000 1.000 1.000 1.000 1.000 1.000 1.000 1.000 1.000 1.000\n",
      " 1.000 1.000 1.000 1.000 1.000 1.000 1.000 1.000 1.000 1.000 1.000 1.000\n",
      " 1.000 1.000 1.000 1.000 1.000 1.000 1.000 1.000 1.000 1.000 1.000 1.000\n",
      " 1.000 1.000 1.000 1.000 1.000 1.000 1.000 1.000 1.000 1.000 1.000 1.000\n",
      " 1.000 1.000 1.000 1.000 1.000 1.000 1.000 1.000 1.000 1.000 1.000 1.000\n",
      " 1.000 1.000 1.000 1.000 1.000 1.000 1.000 1.000 1.000 1.000 1.000 1.000\n",
      " 1.000 1.000 1.000 1.000 1.000 1.000 1.000 1.000 1.000 1.000 1.000 1.000\n",
      " 1.000 1.000 1.000 1.000 1.000 1.000 1.000 1.000]\n",
      "[1.000 1.000 1.000 1.000 1.000 1.000 1.000 1.000 1.000 1.000 1.000 1.000\n",
      " 1.000 1.000 1.000 1.000 1.000 1.000 1.000 1.000 1.000 1.000 1.000 1.000\n",
      " 1.000 1.000 1.000 1.000 1.000 1.000 1.000 1.000 1.000 1.000 1.000 1.000\n",
      " 1.000 1.000 1.000 1.000 1.000 1.000 1.000 1.000 1.000 1.000 1.000 1.000\n",
      " 1.000 1.000 1.000 1.000 1.000 1.000 1.000 1.000 1.000 1.000 1.000 1.000\n",
      " 1.000 1.000 1.000 1.000 1.000 1.000 1.000 1.000 1.000 1.000 1.000 1.000\n",
      " 1.000 1.000 1.000 1.000 1.000 1.000 1.000 1.000 1.000 1.000 1.000 1.000\n",
      " 1.000 1.000 1.000 1.000 1.000 1.000 1.000 1.000 1.000 1.000 1.000 1.000\n",
      " 1.000 1.000 1.000 1.000 1.000 1.000 1.000 1.000 1.000 1.000 1.000 1.000\n",
      " 1.000 1.000 1.000 1.000 1.000 1.000 1.000 1.000 1.000 1.000 1.000 1.000\n",
      " 1.000 1.000 1.000 1.000 1.000 1.000 1.000 1.000 1.000 1.000 1.000 1.000\n",
      " 1.000 1.000 1.000 1.000 1.000 1.000 1.000 1.000 1.000 1.000 1.000 1.000\n",
      " 1.000 1.000 1.000 1.000 1.000 1.000 1.000 1.000 1.000 1.000 1.000 1.000\n",
      " 1.000 1.000 1.000 1.000 1.000 1.000 1.000 1.000 1.000 1.000 1.000 1.000\n",
      " 1.000 1.000 1.000 1.000 1.000 1.000 1.000 1.000 1.000 1.000 1.000 1.000\n",
      " 1.000 1.000 1.000 1.000 1.000 1.000 1.000 1.000 1.000 1.000 1.000 1.000\n",
      " 1.000 1.000 1.000 1.000 1.000 1.000 1.000 1.000 1.000 1.000 1.000 1.000\n",
      " 1.000 1.000 1.000 1.000 1.000 1.000 1.000 1.000 1.000 1.000 1.000 1.000\n",
      " 1.000 1.000 1.000 1.000 1.000 1.000 1.000 1.000 1.000 1.000 1.000 1.000\n",
      " 1.000 1.000 1.000 1.000 1.000 1.000 1.000 1.000 1.000 1.000 1.000 1.000\n",
      " 1.000 1.000 1.000 1.000 1.000 1.000 1.000 1.000 1.000 1.000 1.000 1.000\n",
      " 1.000 1.000 1.000 1.000 1.000 1.000 1.000 1.000 1.000 1.000 1.000 1.000\n",
      " 1.000 1.000 1.000 1.000 1.000 1.000 1.000 1.000 1.000 1.000 1.000 1.000\n",
      " 1.000 1.000 1.000 1.000 1.000 1.000 1.000 1.000 1.000 1.000 1.000 1.000\n",
      " 1.000 1.000 1.000 1.000 1.000 1.000 1.000 1.000 1.000 1.000 1.000 1.000\n",
      " 1.000 1.000 1.000 1.000 1.000 1.000 1.000 1.000 1.000 1.000 1.000 1.000\n",
      " 1.000 1.000 1.000 1.000 1.000 1.000 1.000 1.000 1.000 1.000 1.000 1.000\n",
      " 1.000 1.000 1.000 1.000 1.000 1.000 1.000 1.000 1.000 1.000 1.000 1.000\n",
      " 1.000 1.000 1.000 1.000 1.000 1.000 1.000 1.000 1.000 1.000 1.000 1.000\n",
      " 1.000 1.000 1.000 1.000 1.000 1.000 1.000 1.000 1.000 1.000 1.000 1.000\n",
      " 1.000 1.000 1.000 1.000 1.000 1.000 1.000 1.000 1.000 1.000 1.000 1.000\n",
      " 1.000 1.000 1.000 1.000 1.000 1.000 1.000 1.000 1.000 1.000 1.000 1.000\n",
      " 1.000 1.000 1.000 1.000 1.000 1.000 1.000 1.000 1.000 1.000 1.000 1.000\n",
      " 1.000 1.000 1.000 1.000 1.000 1.000 1.000 1.000 1.000 1.000 1.000 1.000\n",
      " 1.000 1.000 1.000 1.000 1.000 1.000 1.000 1.000 1.000 1.000 1.000 1.000\n",
      " 1.000 1.000 1.000 1.000 1.000 1.000 1.000 1.000 1.000 1.000 1.000 1.000\n",
      " 1.000 1.000 1.000 1.000 1.000 1.000 1.000 1.000 1.000 1.000 1.000 1.000\n",
      " 1.000 1.000 1.000 1.000 1.000 1.000 1.000 1.000 1.000 1.000 1.000 1.000\n",
      " 1.000 1.000 1.000 1.000 1.000 1.000 1.000 1.000 1.000 1.000 1.000 1.000\n",
      " 1.000 1.000 1.000 1.000 1.000 1.000 1.000 1.000 1.000 1.000 1.000 1.000\n",
      " 1.000 1.000 1.000 1.000 1.000 1.000 1.000 1.000 1.000 1.000 1.000 1.000\n",
      " 1.000 1.000 1.000 1.000 1.000 1.000 1.000 1.000]\n",
      "1.0\n",
      "0\n"
     ]
    }
   ],
   "source": [
    "import numpy as np\n",
    "import random\n",
    "\n",
    "# oh so pretty!\n",
    "def float_formatter(x):\n",
    "    if x < 0.001 and x > 0:\n",
    "        return \"   >0\" \n",
    "    elif x == 0:\n",
    "        return \"    0\" \n",
    "    else:\n",
    "        return \"%.3f\" % x\n",
    "np.set_printoptions(formatter={'float_kind':float_formatter})\n",
    "\n",
    "A = np.random.rand(500,500)\n",
    "A = A/A.sum(axis=1)[:,None]\n",
    "print(A.sum(axis=1))\n",
    "\n",
    "E = np.random.rand(500, 4)\n",
    "E = E / E.sum(axis=1)[:,None]\n",
    "print(E.sum(axis=1))\n",
    "pi = np.random.rand(500)\n",
    "pi = pi/pi.sum()\n",
    "print(pi.sum())\n",
    "\n",
    "#ACGT\n",
    "def l2i(l):\n",
    "    d = {'A':0, 'C':1, 'G':2, 'T':3}\n",
    "    return d[l]\n",
    "\n",
    "print(l2i('A'))"
   ]
  },
  {
   "cell_type": "code",
   "execution_count": 145,
   "metadata": {
    "collapsed": false
   },
   "outputs": [
    {
     "name": "stdout",
     "output_type": "stream",
     "text": [
      "['A' 'AA' 'AC' 'AG' 'AT' 'C' 'CA' 'CC' 'CG' 'CT' 'G' 'GA' 'GC' 'GG' 'GT'\n",
      " 'T' 'TA' 'TC' 'TG' 'TT']\n"
     ]
    }
   ],
   "source": [
    "# define all possible outcomes of all states:\n",
    "outcomes_dict = {} # ohh gawd this is akward\n",
    "outcomes = np.empty([20], dtype=object) # help me, im lost\n",
    "i = 0\n",
    "letters = 'ACGT'\n",
    "for letter1 in letters:\n",
    "    outcomes[i] = letter1\n",
    "    outcomes_dict[letter1] = i\n",
    "    i += 1\n",
    "    for letter2 in letters:\n",
    "        outcomes[i] = letter1 + letter2# + letter3\n",
    "        #outcomes_dict[letter1 + letter2 + letter3] = i\n",
    "        outcomes_dict[letter1 + letter2] = i\n",
    "        i += 1\n",
    "\n",
    "            \n",
    "#outcomes_dict = alphabet\n",
    "#outcomes=np.asarray(('A', 'C', 'G', 'T'))\n",
    "#ACGT\n",
    "def l2i(l):\n",
    "    if type(l) is str:\n",
    "        if l == \"\":\n",
    "            return -1\n",
    "        else:\n",
    "            return outcomes_dict[l]\n",
    "    else:\n",
    "        return [l2i(l_) for l_ in l]\n",
    "#i can either be a list of indices, or just an index\n",
    "def i2l(i):\n",
    "    if type(i) is int:\n",
    "        return outcomes[i]\n",
    "    else:\n",
    "        return [outcomes[i_] for i_ in i]\n",
    "def e_prop(E, s):\n",
    "    result = list()\n",
    "    for i in range(len(s)):\n",
    "        if i < 0:\n",
    "            result.append(-1)\n",
    "        else:\n",
    "            result.append(E[i, s[i]])\n",
    "    return result\n",
    "    \n",
    "print(outcomes)"
   ]
  },
  {
   "cell_type": "code",
   "execution_count": 123,
   "metadata": {
    "collapsed": false
   },
   "outputs": [
    {
     "name": "stdout",
     "output_type": "stream",
     "text": [
      "[[    0 0.200 0.200]\n",
      " [0.750     0 0.250]\n",
      " [0.750 0.250     0]]\n",
      "\n",
      "[[    0 0.333 0.333 0.333 0.333     0     0     0     0     0     0     0\n",
      "      0     0     0     0     0     0     0     0]\n",
      " [    0     0     0     0     0 0.700     0     0     0     0 0.200     0\n",
      "      0     0     0 0.100     0     0     0     0]\n",
      " [    0     0     0     0     0 0.200     0     0     0     0 0.700     0\n",
      "      0     0     0 0.100     0     0     0     0]]\n",
      "\n",
      "[0.333 0.333 0.333]\n",
      "\n",
      "[2 1 1]\n"
     ]
    }
   ],
   "source": [
    "#Here we make some test data, to see if viterbi works.\n",
    "\n",
    "A = np.zeros((3,3))\n",
    "E = np.zeros((3,outcomes.shape[0]))\n",
    "pi = np.zeros(3)\n",
    "A[0, 1] = 0.2\n",
    "A[0, 2] = 0.2\n",
    "\n",
    "A[1, 0] = 0.75\n",
    "A[1, 2] = 0.25\n",
    "A[2, 0] = 0.75\n",
    "A[2, 1] = 0.25\n",
    "\n",
    "E[0, 1] = 0.333 #AA\n",
    "E[0, 2] = 0.333 #AC\n",
    "E[0, 3] = 0.333 #AG\n",
    "E[0, 4] = 0.333 #AT\n",
    "E[1, 5] = 0.7 #C\n",
    "E[1, 10] = 0.2 #G\n",
    "E[1,15] = 0.1 #T\n",
    "E[2, 5] = 0.2 #C\n",
    "E[2, 10] = 0.7 #G\n",
    "E[2 ,15] = 0.1 #T\n",
    "\n",
    "pi[:] = 1/3\n",
    "\n",
    "q = np.ones(3, dtype=np.int32)\n",
    "q[0] = 2\n",
    "print(A)\n",
    "print()\n",
    "print(E)\n",
    "print()\n",
    "print(pi)\n",
    "print()\n",
    "print(q)"
   ]
  },
  {
   "cell_type": "code",
   "execution_count": 139,
   "metadata": {
    "collapsed": false
   },
   "outputs": [
    {
     "name": "stdout",
     "output_type": "stream",
     "text": [
      "['c']\n",
      "['a' 'b' 'c' 'd' 'e']\n",
      "a\n",
      "[3 4 1]\n",
      "['d' 'e' 'b']\n"
     ]
    },
    {
     "data": {
      "text/plain": [
       "array([[3, 4, 1]], dtype=int32)"
      ]
     },
     "execution_count": 139,
     "metadata": {},
     "output_type": "execute_result"
    }
   ],
   "source": [
    "s_ = \"abcde\"\n",
    "s = np.chararray(len(s_), unicode=True)\n",
    "s[:] = list(s_)\n",
    "v = np.ones(3, dtype=np.int32)\n",
    "v[0] = 3\n",
    "v[1] = 4\n",
    "v[2] = 1\n",
    "print(s[2:3])\n",
    "print(s)\n",
    "print(s[0])\n",
    "print(v)\n",
    "print(s[v])\n",
    "v[None]"
   ]
  },
  {
   "cell_type": "code",
   "execution_count": 124,
   "metadata": {
    "collapsed": false
   },
   "outputs": [],
   "source": [
    "#Calculates the path with maximum likelihood for string s.\n",
    "#A is transmissions, E is emissions and p is pi\n",
    "\n",
    "def viterbi_gen(A, E, p, s):\n",
    "    result = -1*np.ones([A.shape[0], len(s)])\n",
    "    result[:, 0] = E[:, alphabet[s[0]]]*p\n",
    "    for i in range(1, len(s)):\n",
    "        if i % 100 == 0:\n",
    "            print(\"\\r\" + str(i), end=\"\")\n",
    "        a =  (A.T * result[:, i-1]).max(axis=1)\n",
    "        b = a * E[:, alphabet[s[i]]]\n",
    "        result[:, i] = b\n",
    "    return result\n",
    "\n",
    "def viterbi_path(X, A, E, p, s):\n",
    "    n = X.shape[1]-1\n",
    "    path = np.zeros(n+1, dtype=np.int32)\n",
    "    path[n] = np.argmax(X[:, n], axis=0)\n",
    "    for i in range(n-1, -1, -1):\n",
    "        p = E[path[i+1], alphabet[s[i+1]]]\n",
    "        p = p * X[:, i]\n",
    "        p = p * A[:, path[i+1]]\n",
    "        path[i] = np.argmax(p)\n",
    "    return path\n",
    "\n",
    "def viterbi(A, E, p, s):\n",
    "    X = viterbi_gen(A, E, p, s)\n",
    "    return viterbi_path(X, A, E, p, s)"
   ]
  },
  {
   "cell_type": "code",
   "execution_count": 110,
   "metadata": {
    "collapsed": false
   },
   "outputs": [
    {
     "name": "stdout",
     "output_type": "stream",
     "text": [
      "[0 0 0 0 0 0]\n"
     ]
    }
   ],
   "source": [
    "print(viterbi(A, E, pi, \"ACGTTG\"))"
   ]
  },
  {
   "cell_type": "code",
   "execution_count": 146,
   "metadata": {
    "collapsed": false
   },
   "outputs": [
    {
     "name": "stdout",
     "output_type": "stream",
     "text": [
      "boob\n",
      "[2 2 1]\n",
      "[1 1 1]\n",
      "['AC', 'A', 'A']\n",
      "[2, 0, 0]\n",
      "boob\n",
      "[0.33300000000000002, 0.0, 0.0]\n",
      "[0.175 0.058 0.017]\n",
      "boob\n",
      "[0 0 0]\n",
      "[3 3 3]\n",
      "['', '', '']\n",
      "[-1, -1, -1]\n",
      "boob\n",
      "[0.0, 0.0, 0.0]\n",
      "[    0 0.012 0.012]\n"
     ]
    },
    {
     "data": {
      "text/plain": [
       "array([[    0, 0.058,     0],\n",
       "       [0.067,     0,     0],\n",
       "       [0.233,     0,     0]])"
      ]
     },
     "execution_count": 146,
     "metadata": {},
     "output_type": "execute_result"
    }
   ],
   "source": [
    "#This is the Viterbi algorithm, where different states, can take input of different length.\n",
    "#A, E, p and s is as above. q is a vector, signifying the length of inputs for each state.\n",
    "\n",
    "s = \"GAC\"\n",
    "\n",
    "def viterbi_ext_gen(A, E, p, s, q):\n",
    "    #We convert the input string to a numpy char-array\n",
    "    s_ = np.chararray(len(s), unicode=True)\n",
    "    s_[:] = list(s)\n",
    "    s = s_\n",
    "    #Then we generate some result matrix, with -1 everywhere.\n",
    "    result = -1*np.ones([A.shape[0], len(s)])\n",
    "    #We save how long we have gotten in each \"row\"\n",
    "    step = np.zeros(A.shape[0], dtype=np.int32)\n",
    "    #We store the first row, to know the probability of starting in each state.\n",
    "    s_ = l2i([\"\".join(s[0: q_]) for q_ in q])\n",
    "    result[:, 0] = e_prop(E, s_)*p\n",
    "    step = step+q\n",
    "    for i in range(1, len(s)):\n",
    "        if i % 100 == 0:\n",
    "            print(\"\\r\" + str(i), end=\"\")\n",
    "        #First we calculate the argument of the ealier state max probability.\n",
    "        arg =  (A.T * result[:, i-1]).argmax(axis=1)\n",
    "        print('boob')\n",
    "        print(arg)\n",
    "        #Then we calculate the actual max\n",
    "        m = (A.T * result[:, i-1]).max(axis=1)\n",
    "        #Then we calculate the emission probability\n",
    "        step_ = step[arg]\n",
    "        print(step_)\n",
    "            s_ = [\"\".join(s[step_[i]:step_[i]+q[i]]) for i in range(len(step))]\n",
    "        print(s_)\n",
    "        s_ = l2i(s_)\n",
    "        print(s_)\n",
    "        e = [E[i, s_[i]] for i in range(len(s_))]\n",
    "        #Then we fill in the actual probabilities\n",
    "        print(\"boob\")\n",
    "        print(e)\n",
    "        print(m)\n",
    "        result[:, i] = m*e\n",
    "        step = step_ + q\n",
    "    return result\n",
    "\n",
    "viterbi_ext_gen(A, E, pi, s, q)"
   ]
  },
  {
   "cell_type": "raw",
   "metadata": {},
   "source": []
  }
 ],
 "metadata": {
  "anaconda-cloud": {},
  "kernelspec": {
   "display_name": "Python [conda root]",
   "language": "python",
   "name": "conda-root-py"
  },
  "language_info": {
   "codemirror_mode": {
    "name": "ipython",
    "version": 3
   },
   "file_extension": ".py",
   "mimetype": "text/x-python",
   "name": "python",
   "nbconvert_exporter": "python",
   "pygments_lexer": "ipython3",
   "version": "3.5.2"
  }
 },
 "nbformat": 4,
 "nbformat_minor": 1
}
