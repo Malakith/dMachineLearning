{
 "cells": [
  {
   "cell_type": "code",
   "execution_count": 1,
   "metadata": {
    "collapsed": false
   },
   "outputs": [
    {
     "name": "stdout",
     "output_type": "stream",
     "text": [
      "[1.000 1.000 1.000 1.000 1.000 1.000 1.000 1.000 1.000 1.000 1.000 1.000\n",
      " 1.000 1.000 1.000 1.000 1.000 1.000 1.000 1.000 1.000 1.000 1.000 1.000\n",
      " 1.000 1.000 1.000 1.000 1.000 1.000 1.000 1.000 1.000 1.000 1.000 1.000\n",
      " 1.000 1.000 1.000 1.000 1.000 1.000 1.000 1.000 1.000 1.000 1.000 1.000\n",
      " 1.000 1.000 1.000 1.000 1.000 1.000 1.000 1.000 1.000 1.000 1.000 1.000\n",
      " 1.000 1.000 1.000 1.000 1.000 1.000 1.000 1.000 1.000 1.000 1.000 1.000\n",
      " 1.000 1.000 1.000 1.000 1.000 1.000 1.000 1.000 1.000 1.000 1.000 1.000\n",
      " 1.000 1.000 1.000 1.000 1.000 1.000 1.000 1.000 1.000 1.000 1.000 1.000\n",
      " 1.000 1.000 1.000 1.000 1.000 1.000 1.000 1.000 1.000 1.000 1.000 1.000\n",
      " 1.000 1.000 1.000 1.000 1.000 1.000 1.000 1.000 1.000 1.000 1.000 1.000\n",
      " 1.000 1.000 1.000 1.000 1.000 1.000 1.000 1.000 1.000 1.000 1.000 1.000\n",
      " 1.000 1.000 1.000 1.000 1.000 1.000 1.000 1.000 1.000 1.000 1.000 1.000\n",
      " 1.000 1.000 1.000 1.000 1.000 1.000 1.000 1.000 1.000 1.000 1.000 1.000\n",
      " 1.000 1.000 1.000 1.000 1.000 1.000 1.000 1.000 1.000 1.000 1.000 1.000\n",
      " 1.000 1.000 1.000 1.000 1.000 1.000 1.000 1.000 1.000 1.000 1.000 1.000\n",
      " 1.000 1.000 1.000 1.000 1.000 1.000 1.000 1.000 1.000 1.000 1.000 1.000\n",
      " 1.000 1.000 1.000 1.000 1.000 1.000 1.000 1.000 1.000 1.000 1.000 1.000\n",
      " 1.000 1.000 1.000 1.000 1.000 1.000 1.000 1.000 1.000 1.000 1.000 1.000\n",
      " 1.000 1.000 1.000 1.000 1.000 1.000 1.000 1.000 1.000 1.000 1.000 1.000\n",
      " 1.000 1.000 1.000 1.000 1.000 1.000 1.000 1.000 1.000 1.000 1.000 1.000\n",
      " 1.000 1.000 1.000 1.000 1.000 1.000 1.000 1.000 1.000 1.000 1.000 1.000\n",
      " 1.000 1.000 1.000 1.000 1.000 1.000 1.000 1.000 1.000 1.000 1.000 1.000\n",
      " 1.000 1.000 1.000 1.000 1.000 1.000 1.000 1.000 1.000 1.000 1.000 1.000\n",
      " 1.000 1.000 1.000 1.000 1.000 1.000 1.000 1.000 1.000 1.000 1.000 1.000\n",
      " 1.000 1.000 1.000 1.000 1.000 1.000 1.000 1.000 1.000 1.000 1.000 1.000\n",
      " 1.000 1.000 1.000 1.000 1.000 1.000 1.000 1.000 1.000 1.000 1.000 1.000\n",
      " 1.000 1.000 1.000 1.000 1.000 1.000 1.000 1.000 1.000 1.000 1.000 1.000\n",
      " 1.000 1.000 1.000 1.000 1.000 1.000 1.000 1.000 1.000 1.000 1.000 1.000\n",
      " 1.000 1.000 1.000 1.000 1.000 1.000 1.000 1.000 1.000 1.000 1.000 1.000\n",
      " 1.000 1.000 1.000 1.000 1.000 1.000 1.000 1.000 1.000 1.000 1.000 1.000\n",
      " 1.000 1.000 1.000 1.000 1.000 1.000 1.000 1.000 1.000 1.000 1.000 1.000\n",
      " 1.000 1.000 1.000 1.000 1.000 1.000 1.000 1.000 1.000 1.000 1.000 1.000\n",
      " 1.000 1.000 1.000 1.000 1.000 1.000 1.000 1.000 1.000 1.000 1.000 1.000\n",
      " 1.000 1.000 1.000 1.000 1.000 1.000 1.000 1.000 1.000 1.000 1.000 1.000\n",
      " 1.000 1.000 1.000 1.000 1.000 1.000 1.000 1.000 1.000 1.000 1.000 1.000\n",
      " 1.000 1.000 1.000 1.000 1.000 1.000 1.000 1.000 1.000 1.000 1.000 1.000\n",
      " 1.000 1.000 1.000 1.000 1.000 1.000 1.000 1.000 1.000 1.000 1.000 1.000\n",
      " 1.000 1.000 1.000 1.000 1.000 1.000 1.000 1.000 1.000 1.000 1.000 1.000\n",
      " 1.000 1.000 1.000 1.000 1.000 1.000 1.000 1.000 1.000 1.000 1.000 1.000\n",
      " 1.000 1.000 1.000 1.000 1.000 1.000 1.000 1.000 1.000 1.000 1.000 1.000\n",
      " 1.000 1.000 1.000 1.000 1.000 1.000 1.000 1.000 1.000 1.000 1.000 1.000\n",
      " 1.000 1.000 1.000 1.000 1.000 1.000 1.000 1.000]\n",
      "[1.000 1.000 1.000 1.000 1.000 1.000 1.000 1.000 1.000 1.000 1.000 1.000\n",
      " 1.000 1.000 1.000 1.000 1.000 1.000 1.000 1.000 1.000 1.000 1.000 1.000\n",
      " 1.000 1.000 1.000 1.000 1.000 1.000 1.000 1.000 1.000 1.000 1.000 1.000\n",
      " 1.000 1.000 1.000 1.000 1.000 1.000 1.000 1.000 1.000 1.000 1.000 1.000\n",
      " 1.000 1.000 1.000 1.000 1.000 1.000 1.000 1.000 1.000 1.000 1.000 1.000\n",
      " 1.000 1.000 1.000 1.000 1.000 1.000 1.000 1.000 1.000 1.000 1.000 1.000\n",
      " 1.000 1.000 1.000 1.000 1.000 1.000 1.000 1.000 1.000 1.000 1.000 1.000\n",
      " 1.000 1.000 1.000 1.000 1.000 1.000 1.000 1.000 1.000 1.000 1.000 1.000\n",
      " 1.000 1.000 1.000 1.000 1.000 1.000 1.000 1.000 1.000 1.000 1.000 1.000\n",
      " 1.000 1.000 1.000 1.000 1.000 1.000 1.000 1.000 1.000 1.000 1.000 1.000\n",
      " 1.000 1.000 1.000 1.000 1.000 1.000 1.000 1.000 1.000 1.000 1.000 1.000\n",
      " 1.000 1.000 1.000 1.000 1.000 1.000 1.000 1.000 1.000 1.000 1.000 1.000\n",
      " 1.000 1.000 1.000 1.000 1.000 1.000 1.000 1.000 1.000 1.000 1.000 1.000\n",
      " 1.000 1.000 1.000 1.000 1.000 1.000 1.000 1.000 1.000 1.000 1.000 1.000\n",
      " 1.000 1.000 1.000 1.000 1.000 1.000 1.000 1.000 1.000 1.000 1.000 1.000\n",
      " 1.000 1.000 1.000 1.000 1.000 1.000 1.000 1.000 1.000 1.000 1.000 1.000\n",
      " 1.000 1.000 1.000 1.000 1.000 1.000 1.000 1.000 1.000 1.000 1.000 1.000\n",
      " 1.000 1.000 1.000 1.000 1.000 1.000 1.000 1.000 1.000 1.000 1.000 1.000\n",
      " 1.000 1.000 1.000 1.000 1.000 1.000 1.000 1.000 1.000 1.000 1.000 1.000\n",
      " 1.000 1.000 1.000 1.000 1.000 1.000 1.000 1.000 1.000 1.000 1.000 1.000\n",
      " 1.000 1.000 1.000 1.000 1.000 1.000 1.000 1.000 1.000 1.000 1.000 1.000\n",
      " 1.000 1.000 1.000 1.000 1.000 1.000 1.000 1.000 1.000 1.000 1.000 1.000\n",
      " 1.000 1.000 1.000 1.000 1.000 1.000 1.000 1.000 1.000 1.000 1.000 1.000\n",
      " 1.000 1.000 1.000 1.000 1.000 1.000 1.000 1.000 1.000 1.000 1.000 1.000\n",
      " 1.000 1.000 1.000 1.000 1.000 1.000 1.000 1.000 1.000 1.000 1.000 1.000\n",
      " 1.000 1.000 1.000 1.000 1.000 1.000 1.000 1.000 1.000 1.000 1.000 1.000\n",
      " 1.000 1.000 1.000 1.000 1.000 1.000 1.000 1.000 1.000 1.000 1.000 1.000\n",
      " 1.000 1.000 1.000 1.000 1.000 1.000 1.000 1.000 1.000 1.000 1.000 1.000\n",
      " 1.000 1.000 1.000 1.000 1.000 1.000 1.000 1.000 1.000 1.000 1.000 1.000\n",
      " 1.000 1.000 1.000 1.000 1.000 1.000 1.000 1.000 1.000 1.000 1.000 1.000\n",
      " 1.000 1.000 1.000 1.000 1.000 1.000 1.000 1.000 1.000 1.000 1.000 1.000\n",
      " 1.000 1.000 1.000 1.000 1.000 1.000 1.000 1.000 1.000 1.000 1.000 1.000\n",
      " 1.000 1.000 1.000 1.000 1.000 1.000 1.000 1.000 1.000 1.000 1.000 1.000\n",
      " 1.000 1.000 1.000 1.000 1.000 1.000 1.000 1.000 1.000 1.000 1.000 1.000\n",
      " 1.000 1.000 1.000 1.000 1.000 1.000 1.000 1.000 1.000 1.000 1.000 1.000\n",
      " 1.000 1.000 1.000 1.000 1.000 1.000 1.000 1.000 1.000 1.000 1.000 1.000\n",
      " 1.000 1.000 1.000 1.000 1.000 1.000 1.000 1.000 1.000 1.000 1.000 1.000\n",
      " 1.000 1.000 1.000 1.000 1.000 1.000 1.000 1.000 1.000 1.000 1.000 1.000\n",
      " 1.000 1.000 1.000 1.000 1.000 1.000 1.000 1.000 1.000 1.000 1.000 1.000\n",
      " 1.000 1.000 1.000 1.000 1.000 1.000 1.000 1.000 1.000 1.000 1.000 1.000\n",
      " 1.000 1.000 1.000 1.000 1.000 1.000 1.000 1.000 1.000 1.000 1.000 1.000\n",
      " 1.000 1.000 1.000 1.000 1.000 1.000 1.000 1.000]\n",
      "1.0\n",
      "0\n"
     ]
    }
   ],
   "source": [
    "import numpy as np\n",
    "import random\n",
    "\n",
    "# oh so pretty!\n",
    "def float_formatter(x):\n",
    "    if x < 0.001 and x > 0:\n",
    "        return \"   >0\" \n",
    "    elif x == 0:\n",
    "        return \"    0\" \n",
    "    else:\n",
    "        return \"%.3f\" % x\n",
    "np.set_printoptions(formatter={'float_kind':float_formatter})\n",
    "\n",
    "A = np.random.rand(500,500)\n",
    "A = A/A.sum(axis=1)[:,None]\n",
    "print(A.sum(axis=1))\n",
    "\n",
    "E = np.random.rand(500, 4)\n",
    "E = E / E.sum(axis=1)[:,None]\n",
    "print(E.sum(axis=1))\n",
    "pi = np.random.rand(500)\n",
    "pi = pi/pi.sum()\n",
    "print(pi.sum())\n",
    "\n",
    "#ACGT\n",
    "def l2i(l):\n",
    "    d = {'A':0, 'C':1, 'G':2, 'T':3}\n",
    "    return d[l]\n",
    "\n",
    "print(l2i('A'))"
   ]
  },
  {
   "cell_type": "code",
   "execution_count": 2,
   "metadata": {
    "collapsed": false
   },
   "outputs": [
    {
     "name": "stdout",
     "output_type": "stream",
     "text": [
      "{'GG': 13, 'CA': 6, 'TT': 19, 'AC': 2, 'CG': 8, 'AT': 4, 'AG': 3, 'GC': 12, 'GA': 11, 'CT': 9, 'GT': 14, 'A': 0, 'T': 15, 'TA': 16, 'AA': 1, 'TG': 18, 'G': 10, 'TC': 17, 'C': 5, 'CC': 7}\n",
      "['A' 'AA' 'AC' 'AG' 'AT' 'C' 'CA' 'CC' 'CG' 'CT' 'G' 'GA' 'GC' 'GG' 'GT'\n",
      " 'T' 'TA' 'TC' 'TG' 'TT']\n"
     ]
    }
   ],
   "source": [
    "# define all possible outcomes of all states:\n",
    "outcomes_dict = {} # ohh gawd this is akward\n",
    "outcomes = np.empty([20], dtype=object) # help me, im lost\n",
    "i = 0\n",
    "letters = 'ACGT'\n",
    "for letter1 in letters:\n",
    "    outcomes[i] = letter1\n",
    "    outcomes_dict[letter1] = i\n",
    "    i += 1\n",
    "    for letter2 in letters:\n",
    "        outcomes[i] = letter1 + letter2# + letter3\n",
    "        #outcomes_dict[letter1 + letter2 + letter3] = i\n",
    "        outcomes_dict[letter1 + letter2] = i\n",
    "        i += 1\n",
    "\n",
    "print(outcomes_dict)\n",
    "print(outcomes)\n",
    "#outcomes_dict = alphabet\n",
    "#outcomes=np.asarray(('A', 'C', 'G', 'T'))\n",
    "#ACGT\n",
    "def l2i(l):\n",
    "    if type(l) is str:\n",
    "        if l == \"\":\n",
    "            return -1\n",
    "        else:\n",
    "            return outcomes_dict[l]\n",
    "    else:\n",
    "        return [l2i(l_) for l_ in l]\n",
    "#i can either be a list of indices, or just an index\n",
    "def i2l(i):\n",
    "    if type(i) is int:\n",
    "        return outcomes[i]\n",
    "    else:\n",
    "        return [outcomes[i_] for i_ in i]\n",
    "def e_prop(E, s):\n",
    "    result = list()\n",
    "    for i in range(len(s)):\n",
    "        if i < 0:\n",
    "            result.append(-1)\n",
    "        else:\n",
    "            result.append(E[i, s[i]])\n",
    "    return result\n",
    "    "
   ]
  },
  {
   "cell_type": "code",
   "execution_count": 4,
   "metadata": {
    "collapsed": false
   },
   "outputs": [
    {
     "name": "stdout",
     "output_type": "stream",
     "text": [
      "[[    0 0.200 0.200]\n",
      " [0.750     0 0.250]\n",
      " [0.750 0.250     0]]\n",
      "\n",
      "[[    0 0.333 0.333 0.333 0.333     0     0     0     0     0     0     0\n",
      "      0     0     0     0     0     0     0     0]\n",
      " [    0     0     0     0     0 0.700     0     0     0     0 0.200     0\n",
      "      0     0     0 0.100     0     0     0     0]\n",
      " [    0     0     0     0     0 0.200     0     0     0     0 0.700     0\n",
      "      0     0     0 0.100     0     0     0     0]]\n",
      "\n",
      "[0.333 0.333 0.333]\n",
      "\n",
      "[2 1 1]\n"
     ]
    }
   ],
   "source": [
    "#Here we make some test data, to see if viterbi works.\n",
    "\n",
    "A = np.zeros((3,3))\n",
    "E = np.zeros((3,outcomes.shape[0]))\n",
    "pi = np.zeros(3)\n",
    "A[0, 1] = 0.2\n",
    "A[0, 2] = 0.2\n",
    "\n",
    "A[1, 0] = 0.75\n",
    "A[1, 2] = 0.25\n",
    "A[2, 0] = 0.75\n",
    "A[2, 1] = 0.25\n",
    "\n",
    "E[0, 1] = 0.333 #AA\n",
    "E[0, 2] = 0.333 #AC\n",
    "E[0, 3] = 0.333 #AG\n",
    "E[0, 4] = 0.333 #AT\n",
    "E[1, 5] = 0.7 #C\n",
    "E[1, 10] = 0.2 #G\n",
    "E[1,15] = 0.1 #T\n",
    "E[2, 5] = 0.2 #C\n",
    "E[2, 10] = 0.7 #G\n",
    "E[2 ,15] = 0.1 #T\n",
    "\n",
    "pi[:] = 1/3\n",
    "\n",
    "q = np.ones(3, dtype=np.int32)\n",
    "q[0] = 2\n",
    "print(A)\n",
    "print()\n",
    "print(E)\n",
    "print()\n",
    "print(pi)\n",
    "print()\n",
    "print(q)"
   ]
  },
  {
   "cell_type": "code",
   "execution_count": 5,
   "metadata": {
    "collapsed": false
   },
   "outputs": [
    {
     "name": "stdout",
     "output_type": "stream",
     "text": [
      "['c']\n",
      "['a' 'b' 'c' 'd' 'e']\n",
      "a\n",
      "[3 4 1]\n",
      "['d' 'e' 'b']\n"
     ]
    },
    {
     "data": {
      "text/plain": [
       "array([[3, 4, 1]], dtype=int32)"
      ]
     },
     "execution_count": 5,
     "metadata": {},
     "output_type": "execute_result"
    }
   ],
   "source": [
    "s_ = \"abcde\"\n",
    "s = np.chararray(len(s_), unicode=True)\n",
    "s[:] = list(s_)\n",
    "v = np.ones(3, dtype=np.int32)\n",
    "v[0] = 3\n",
    "v[1] = 4\n",
    "v[2] = 1\n",
    "print(s[2:3])\n",
    "print(s)\n",
    "print(s[0])\n",
    "print(v)\n",
    "print(s[v])\n",
    "v[None]"
   ]
  },
  {
   "cell_type": "code",
   "execution_count": 5,
   "metadata": {
    "collapsed": false
   },
   "outputs": [],
   "source": [
    "#Calculates the path with maximum likelihood for string s.\n",
    "#A is transmissions, E is emissions and p is pi\n",
    "\n",
    "def viterbi_gen(A, E, p, s):\n",
    "    result = -1*np.ones([A.shape[0], len(s)])\n",
    "    result[:, 0] = E[:, alphabet[s[0]]]*p\n",
    "    for i in range(1, len(s)):\n",
    "        if i % 100 == 0:\n",
    "            print(\"\\r\" + str(i), end=\"\")\n",
    "        a =  (A.T * result[:, i-1]).max(axis=1)\n",
    "        b = a * E[:, alphabet[s[i]]]\n",
    "        result[:, i] = b\n",
    "    return result\n",
    "\n",
    "def viterbi_path(X, A, E, p, s):\n",
    "    n = X.shape[1]-1\n",
    "    path = np.zeros(n+1, dtype=np.int32)\n",
    "    path[n] = np.argmax(X[:, n], axis=0)\n",
    "    for i in range(n-1, -1, -1):\n",
    "        p = E[path[i+1], alphabet[s[i+1]]]\n",
    "        p = p * X[:, i]\n",
    "        p = p * A[:, path[i+1]]\n",
    "        path[i] = np.argmax(p)\n",
    "    return path\n",
    "\n",
    "def viterbi(A, E, p, s):\n",
    "    X = viterbi_gen(A, E, p, s)\n",
    "    return viterbi_path(X, A, E, p, s)"
   ]
  },
  {
   "cell_type": "code",
   "execution_count": 6,
   "metadata": {
    "collapsed": false
   },
   "outputs": [
    {
     "ename": "NameError",
     "evalue": "name 'alphabet' is not defined",
     "output_type": "error",
     "traceback": [
      "\u001b[0;31m---------------------------------------------------------------------------\u001b[0m",
      "\u001b[0;31mNameError\u001b[0m                                 Traceback (most recent call last)",
      "\u001b[0;32m<ipython-input-6-a394345a9408>\u001b[0m in \u001b[0;36m<module>\u001b[0;34m()\u001b[0m\n\u001b[0;32m----> 1\u001b[0;31m \u001b[0mprint\u001b[0m\u001b[1;33m(\u001b[0m\u001b[0mviterbi\u001b[0m\u001b[1;33m(\u001b[0m\u001b[0mA\u001b[0m\u001b[1;33m,\u001b[0m \u001b[0mE\u001b[0m\u001b[1;33m,\u001b[0m \u001b[0mpi\u001b[0m\u001b[1;33m,\u001b[0m \u001b[1;34m\"ACGTTG\"\u001b[0m\u001b[1;33m)\u001b[0m\u001b[1;33m)\u001b[0m\u001b[1;33m\u001b[0m\u001b[0m\n\u001b[0m",
      "\u001b[0;32m<ipython-input-5-9938af7d836b>\u001b[0m in \u001b[0;36mviterbi\u001b[0;34m(A, E, p, s)\u001b[0m\n\u001b[1;32m     25\u001b[0m \u001b[1;33m\u001b[0m\u001b[0m\n\u001b[1;32m     26\u001b[0m \u001b[1;32mdef\u001b[0m \u001b[0mviterbi\u001b[0m\u001b[1;33m(\u001b[0m\u001b[0mA\u001b[0m\u001b[1;33m,\u001b[0m \u001b[0mE\u001b[0m\u001b[1;33m,\u001b[0m \u001b[0mp\u001b[0m\u001b[1;33m,\u001b[0m \u001b[0ms\u001b[0m\u001b[1;33m)\u001b[0m\u001b[1;33m:\u001b[0m\u001b[1;33m\u001b[0m\u001b[0m\n\u001b[0;32m---> 27\u001b[0;31m     \u001b[0mX\u001b[0m \u001b[1;33m=\u001b[0m \u001b[0mviterbi_gen\u001b[0m\u001b[1;33m(\u001b[0m\u001b[0mA\u001b[0m\u001b[1;33m,\u001b[0m \u001b[0mE\u001b[0m\u001b[1;33m,\u001b[0m \u001b[0mp\u001b[0m\u001b[1;33m,\u001b[0m \u001b[0ms\u001b[0m\u001b[1;33m)\u001b[0m\u001b[1;33m\u001b[0m\u001b[0m\n\u001b[0m\u001b[1;32m     28\u001b[0m     \u001b[1;32mreturn\u001b[0m \u001b[0mviterbi_path\u001b[0m\u001b[1;33m(\u001b[0m\u001b[0mX\u001b[0m\u001b[1;33m,\u001b[0m \u001b[0mA\u001b[0m\u001b[1;33m,\u001b[0m \u001b[0mE\u001b[0m\u001b[1;33m,\u001b[0m \u001b[0mp\u001b[0m\u001b[1;33m,\u001b[0m \u001b[0ms\u001b[0m\u001b[1;33m)\u001b[0m\u001b[1;33m\u001b[0m\u001b[0m\n",
      "\u001b[0;32m<ipython-input-5-9938af7d836b>\u001b[0m in \u001b[0;36mviterbi_gen\u001b[0;34m(A, E, p, s)\u001b[0m\n\u001b[1;32m      4\u001b[0m \u001b[1;32mdef\u001b[0m \u001b[0mviterbi_gen\u001b[0m\u001b[1;33m(\u001b[0m\u001b[0mA\u001b[0m\u001b[1;33m,\u001b[0m \u001b[0mE\u001b[0m\u001b[1;33m,\u001b[0m \u001b[0mp\u001b[0m\u001b[1;33m,\u001b[0m \u001b[0ms\u001b[0m\u001b[1;33m)\u001b[0m\u001b[1;33m:\u001b[0m\u001b[1;33m\u001b[0m\u001b[0m\n\u001b[1;32m      5\u001b[0m     \u001b[0mresult\u001b[0m \u001b[1;33m=\u001b[0m \u001b[1;33m-\u001b[0m\u001b[1;36m1\u001b[0m\u001b[1;33m*\u001b[0m\u001b[0mnp\u001b[0m\u001b[1;33m.\u001b[0m\u001b[0mones\u001b[0m\u001b[1;33m(\u001b[0m\u001b[1;33m[\u001b[0m\u001b[0mA\u001b[0m\u001b[1;33m.\u001b[0m\u001b[0mshape\u001b[0m\u001b[1;33m[\u001b[0m\u001b[1;36m0\u001b[0m\u001b[1;33m]\u001b[0m\u001b[1;33m,\u001b[0m \u001b[0mlen\u001b[0m\u001b[1;33m(\u001b[0m\u001b[0ms\u001b[0m\u001b[1;33m)\u001b[0m\u001b[1;33m]\u001b[0m\u001b[1;33m)\u001b[0m\u001b[1;33m\u001b[0m\u001b[0m\n\u001b[0;32m----> 6\u001b[0;31m     \u001b[0mresult\u001b[0m\u001b[1;33m[\u001b[0m\u001b[1;33m:\u001b[0m\u001b[1;33m,\u001b[0m \u001b[1;36m0\u001b[0m\u001b[1;33m]\u001b[0m \u001b[1;33m=\u001b[0m \u001b[0mE\u001b[0m\u001b[1;33m[\u001b[0m\u001b[1;33m:\u001b[0m\u001b[1;33m,\u001b[0m \u001b[0malphabet\u001b[0m\u001b[1;33m[\u001b[0m\u001b[0ms\u001b[0m\u001b[1;33m[\u001b[0m\u001b[1;36m0\u001b[0m\u001b[1;33m]\u001b[0m\u001b[1;33m]\u001b[0m\u001b[1;33m]\u001b[0m\u001b[1;33m*\u001b[0m\u001b[0mp\u001b[0m\u001b[1;33m\u001b[0m\u001b[0m\n\u001b[0m\u001b[1;32m      7\u001b[0m     \u001b[1;32mfor\u001b[0m \u001b[0mi\u001b[0m \u001b[1;32min\u001b[0m \u001b[0mrange\u001b[0m\u001b[1;33m(\u001b[0m\u001b[1;36m1\u001b[0m\u001b[1;33m,\u001b[0m \u001b[0mlen\u001b[0m\u001b[1;33m(\u001b[0m\u001b[0ms\u001b[0m\u001b[1;33m)\u001b[0m\u001b[1;33m)\u001b[0m\u001b[1;33m:\u001b[0m\u001b[1;33m\u001b[0m\u001b[0m\n\u001b[1;32m      8\u001b[0m         \u001b[1;32mif\u001b[0m \u001b[0mi\u001b[0m \u001b[1;33m%\u001b[0m \u001b[1;36m100\u001b[0m \u001b[1;33m==\u001b[0m \u001b[1;36m0\u001b[0m\u001b[1;33m:\u001b[0m\u001b[1;33m\u001b[0m\u001b[0m\n",
      "\u001b[0;31mNameError\u001b[0m: name 'alphabet' is not defined"
     ]
    }
   ],
   "source": [
    "print(viterbi(A, E, pi, \"ACGTTG\"))"
   ]
  },
  {
   "cell_type": "code",
   "execution_count": 3,
   "metadata": {
    "collapsed": false
   },
   "outputs": [
    {
     "name": "stdout",
     "output_type": "stream",
     "text": [
      "1852441 1852441\n"
     ]
    }
   ],
   "source": [
    "def read_fasta_file(filename):\n",
    "    \"\"\"\n",
    "    Reads the given FASTA file f and returns a dictionary of sequences.\n",
    "\n",
    "    Lines starting with ';' in the FASTA file are ignored.\n",
    "    \"\"\"\n",
    "    sequences_lines = {}\n",
    "    current_sequence_lines = None\n",
    "    with open(filename) as fp:\n",
    "        for line in fp:\n",
    "            line = line.strip()\n",
    "            if line.startswith(';') or not line:\n",
    "                continue\n",
    "            if line.startswith('>'):\n",
    "                sequence_name = line.lstrip('>')\n",
    "                current_sequence_lines = []\n",
    "                sequences_lines[sequence_name] = current_sequence_lines\n",
    "            else:\n",
    "                if current_sequence_lines is not None:\n",
    "                    current_sequence_lines.append(line)\n",
    "    sequences = {}\n",
    "    for name, lines in sequences_lines.items():\n",
    "        sequences[name] = ''.join(lines)\n",
    "    return sequences\n",
    "\n",
    "from collections import defaultdict\n",
    "import matplotlib.pyplot as plt\n",
    "import numpy as np\n",
    "%matplotlib inline\n",
    "\n",
    "genome = ''\n",
    "annotation = ''\n",
    "for i in range(1,2):\n",
    "    genome += read_fasta_file('data/genome%d.fa' % i)['genome%d' % i]\n",
    "    annotation += read_fasta_file('data/annotation%d.fa' % i)['annotation%d' % i]\n",
    "\n",
    "print(len(genome), len(annotation))"
   ]
  },
  {
   "cell_type": "code",
   "execution_count": 4,
   "metadata": {
    "collapsed": false
   },
   "outputs": [
    {
     "name": "stdout",
     "output_type": "stream",
     "text": [
      "['A' 'AAA' 'AAC' 'AAG' 'AAT' 'ACA' 'ACC' 'ACG' 'ACT' 'AGA' 'AGC' 'AGG'\n",
      " 'AGT' 'ATA' 'ATC' 'ATG' 'ATT' 'C' 'CAA' 'CAC' 'CAG' 'CAT' 'CCA' 'CCC'\n",
      " 'CCG' 'CCT' 'CGA' 'CGC' 'CGG' 'CGT' 'CTA' 'CTC' 'CTG' 'CTT' 'G' 'GAA'\n",
      " 'GAC' 'GAG' 'GAT' 'GCA' 'GCC' 'GCG' 'GCT' 'GGA' 'GGC' 'GGG' 'GGT' 'GTA'\n",
      " 'GTC' 'GTG' 'GTT' 'T' 'TAA' 'TAC' 'TAG' 'TAT' 'TCA' 'TCC' 'TCG' 'TCT'\n",
      " 'TGA' 'TGC' 'TGG' 'TGT' 'TTA' 'TTC' 'TTG' 'TTT']\n",
      "{'GCG': 41, 'TCA': 56, 'AAG': 3, 'GAG': 37, 'TAG': 54, 'CAG': 20, 'TTT': 67, 'CTA': 30, 'ATA': 13, 'AAA': 1, 'CGT': 29, 'TTG': 66, 'ATT': 16, 'GCC': 40, 'CAC': 19, 'GCT': 42, 'ACC': 6, 'A': 0, 'GTG': 49, 'ATG': 15, 'TGG': 62, 'TCT': 59, 'CGG': 28, 'GAA': 35, 'CGA': 26, 'T': 51, 'CAA': 18, 'TGT': 63, 'GTT': 50, 'GTA': 47, 'ACA': 5, 'CTT': 33, 'TCC': 57, 'CGC': 27, 'TCG': 58, 'GGC': 44, 'AAT': 4, 'CAT': 21, 'CCG': 24, 'GGA': 43, 'AGA': 9, 'CCT': 25, 'ACG': 7, 'GTC': 48, 'CTG': 32, 'CCA': 22, 'GGG': 45, 'TAT': 55, 'GAC': 36, 'TTC': 65, 'GAT': 38, 'CCC': 23, 'ATC': 14, 'ACT': 8, 'TTA': 64, 'AGT': 12, 'GCA': 39, 'TAA': 52, 'TGA': 60, 'AGG': 11, 'TAC': 53, 'CTC': 31, 'TGC': 61, 'AAC': 2, 'GGT': 46, 'G': 34, 'AGC': 10, 'C': 17}\n",
      "['Noncoding' 'C-start' 'C-codon' 'C-stop' 'R-start' 'R-codon' 'R-stop']\n",
      "[1 3 3 3 3 3 3]\n",
      "<class 'numpy.ndarray'>\n",
      "<class 'dict'>\n"
     ]
    }
   ],
   "source": [
    "npzfile = np.load('codon_hmm_from_counting.npz')\n",
    "A = npzfile['A']\n",
    "E = npzfile['E']\n",
    "pi = npzfile['pi']\n",
    "\n",
    "# define all possible outcomes of all states:\n",
    "outcomes_dict = {} # ohh gawd this is akward\n",
    "outcomes = np.empty([68], dtype=object) # help me, im lost\n",
    "i = 0\n",
    "letters = 'ACGT'\n",
    "for letter1 in letters:\n",
    "    outcomes[i] = letter1\n",
    "    outcomes_dict[letter1] = i\n",
    "    i += 1\n",
    "    for letter2 in letters:\n",
    "        for letter3 in letters:\n",
    "            outcomes[i] = letter1 + letter2 + letter3\n",
    "            outcomes_dict[letter1 + letter2 + letter3] = i\n",
    "            i += 1\n",
    "            \n",
    "            \n",
    "print(outcomes)\n",
    "print(outcomes_dict)\n",
    "\n",
    "\n",
    "state_codes=npzfile['state_codes']\n",
    "state_desc=npzfile['state_desc']\n",
    "\n",
    "q = 3*np.ones(len(state_desc), dtype=np.int32)\n",
    "q[0] = 1\n",
    "print(state_desc)\n",
    "print(q)\n",
    "\n",
    "def l2i(l):\n",
    "    if type(l) is str:\n",
    "        if l == \"\" or len(l) == 2:\n",
    "            return -1\n",
    "        else:\n",
    "            return outcomes_dict[l]\n",
    "    else:\n",
    "        return [l2i(l_) for l_ in l]\n",
    "#i can either be a list of indices, or just an index\n",
    "def i2l(i):\n",
    "    if type(i) is int:\n",
    "        return outcomes[i]\n",
    "    else:\n",
    "        return [outcomes[i_] for i_ in i]\n",
    "def e_prop(E, s):\n",
    "    result = list()\n",
    "    for i in range(len(s)):\n",
    "        if i < 0:\n",
    "            result.append(-1)\n",
    "        else:\n",
    "            result.append(E[i, s[i]])\n",
    "    print(result)\n",
    "    return result\n",
    "\n",
    "print(type(outcomes))\n",
    "print(type(outcomes_dict))"
   ]
  },
  {
   "cell_type": "code",
   "execution_count": 9,
   "metadata": {
    "collapsed": false
   },
   "outputs": [
    {
     "name": "stderr",
     "output_type": "stream",
     "text": [
      "/home/morten/anaconda3/lib/python3.5/site-packages/ipykernel/__main__.py:7: RuntimeWarning: divide by zero encountered in log\n",
      "/home/morten/anaconda3/lib/python3.5/site-packages/ipykernel/__main__.py:8: RuntimeWarning: divide by zero encountered in log\n",
      "/home/morten/anaconda3/lib/python3.5/site-packages/ipykernel/__main__.py:9: RuntimeWarning: divide by zero encountered in log\n",
      "/home/morten/anaconda3/lib/python3.5/site-packages/ipykernel/__main__.py:15: RuntimeWarning: divide by zero encountered in log\n",
      "/home/morten/anaconda3/lib/python3.5/site-packages/ipykernel/__main__.py:33: RuntimeWarning: divide by zero encountered in log\n"
     ]
    },
    {
     "name": "stdout",
     "output_type": "stream",
     "text": [
      "[-1.0944159598743417, -2.4624337939359418, -4.1562480510071698, -inf, -inf, -3.4039117648248869, -inf]\n",
      "1850000Booop\n",
      "0\n",
      "1852441\n",
      "[1852441 1852443 1852443 1852443 1852443 1852443 1852443]\n",
      "[[-1.094 -2.192 -3.991 ..., -2536874.840 -2536876.639 -2536878.445]\n",
      " [-inf -inf -17.034 ..., -inf -inf -inf]\n",
      " [-inf -inf -inf ..., -inf -inf -inf]\n",
      " ..., \n",
      " [-inf -inf -inf ..., -inf -inf -inf]\n",
      " [-inf -inf -inf ..., -inf -inf -inf]\n",
      " [-inf -inf -inf ..., -inf -inf -inf]]\n"
     ]
    },
    {
     "name": "stderr",
     "output_type": "stream",
     "text": [
      "/home/morten/anaconda3/lib/python3.5/site-packages/ipykernel/__main__.py:57: RuntimeWarning: divide by zero encountered in log\n",
      "/home/morten/anaconda3/lib/python3.5/site-packages/ipykernel/__main__.py:58: RuntimeWarning: divide by zero encountered in log\n",
      "/home/morten/anaconda3/lib/python3.5/site-packages/ipykernel/__main__.py:59: RuntimeWarning: divide by zero encountered in log\n"
     ]
    }
   ],
   "source": [
    "#This is the Viterbi algorithm, where different states, can take input of different length.\n",
    "#A, E, p and s is as above. q is a vector, signifying the length of inputs for each state.\n",
    "\n",
    "s = genome\n",
    "\n",
    "def viterbi_ext_gen(A, E, p, s, q):\n",
    "    A = np.log(A)\n",
    "    E = np.log(E)\n",
    "    p = np.log(p)\n",
    "    #We convert the input string to a numpy char-array\n",
    "    s_ = np.chararray(len(s), unicode=True)\n",
    "    s_[:] = list(s)\n",
    "    s = s_\n",
    "    #Then we generate some result matrix, with -1 everywhere.\n",
    "    result = np.log(np.zeros([A.shape[0], len(s)]))\n",
    "    #We save how long we have gotten in each \"row\"\n",
    "    step = np.zeros(A.shape[0], dtype=np.int32)\n",
    "    #We store the first row, to know the probability of starting in each state.\n",
    "    s_ = l2i([\"\".join(s[0: q_]) for q_ in q])\n",
    "    result[:, 0] = e_prop(E, s_)+p.T\n",
    "    step = step+q\n",
    "    for i in range(1, len(s)):\n",
    "        if i % 10000 == 0:\n",
    "            print(\"\\r\" + str(i), end=\"\")\n",
    "        #First we calculate the argument of the ealier state max probability.\n",
    "        arg =  (A.T + result[:, i-1]).argmax(axis=1)\n",
    "        #Then we calculate the actual max\n",
    "        m = (A.T + result[:, i-1]).max(axis=1)\n",
    "        #Then we calculate the emission probability\n",
    "        step_ = step[arg]\n",
    "        s_ = [\"\".join(s[step_[i]:step_[i]+q[i]]) for i in range(len(step))]\n",
    "        s_ = l2i(s_)\n",
    "        e = np.log(np.zeros(len(s_)))\n",
    "        for j in range(len(s_)):\n",
    "            if (s_[j] != -1):\n",
    "                try:\n",
    "                    e[j] = E[j, s_[j]]\n",
    "                except:\n",
    "                    print(\"An error happened\")\n",
    "                    print(j)\n",
    "                    print(len(s_))\n",
    "                    print(s_)\n",
    "        #Then we fill in the actual probabilities\n",
    "        result[:, i] = m+e\n",
    "        step = step_ + q\n",
    "        highest = np.argmax(result[:, i])\n",
    "        if step[highest] >= len(s):\n",
    "            print(\"Booop\")\n",
    "            print(highest)\n",
    "            print(step[highest])\n",
    "            print(step)\n",
    "            result = result[:, :i+1]\n",
    "            break\n",
    "    return result\n",
    "\n",
    "def viterbi_ext_path(X, A, E, p, s, q):\n",
    "    A = np.log(A)\n",
    "    E = np.log(E)\n",
    "    p = np.log(p)\n",
    "    n = X.shape[1]-1\n",
    "    j = len(s)\n",
    "    path = -1*np.ones(n+1, dtype=np.int32)\n",
    "    path[n] = np.argmax(X[:, n], axis=0)\n",
    "    for i in range(n, 0, -1):\n",
    "        q_ = q[path[i]]\n",
    "        s_ = s[j-q_:j]\n",
    "        p = E[path[i], l2i(s_)]\n",
    "        p = p + X[:, i-1]\n",
    "        p = p + A[:, path[i]]\n",
    "        path[i-1] = np.argmax(p)\n",
    "        j = j-q_\n",
    "    return path\n",
    "\n",
    "X = viterbi_ext_gen(A, E, pi, s, q)\n",
    "print(X)\n",
    "path = viterbi_ext_path(X, A, E, pi, s, q)"
   ]
  },
  {
   "cell_type": "code",
   "execution_count": 13,
   "metadata": {
    "collapsed": false
   },
   "outputs": [
    {
     "name": "stderr",
     "output_type": "stream",
     "text": [
      "/home/morten/anaconda3/lib/python3.5/site-packages/ipykernel/__main__.py:1: RuntimeWarning: divide by zero encountered in log\n",
      "  if __name__ == '__main__':\n"
     ]
    },
    {
     "data": {
      "text/plain": [
       "255694"
      ]
     },
     "execution_count": 13,
     "metadata": {},
     "output_type": "execute_result"
    }
   ],
   "source": [
    "(X[1,:] > np.log(0)).sum()"
   ]
  }
 ],
 "metadata": {
  "anaconda-cloud": {},
  "kernelspec": {
   "display_name": "Python [Root]",
   "language": "python",
   "name": "Python [Root]"
  },
  "language_info": {
   "codemirror_mode": {
    "name": "ipython",
    "version": 3
   },
   "file_extension": ".py",
   "mimetype": "text/x-python",
   "name": "python",
   "nbconvert_exporter": "python",
   "pygments_lexer": "ipython3",
   "version": "3.5.2"
  }
 },
 "nbformat": 4,
 "nbformat_minor": 1
}
