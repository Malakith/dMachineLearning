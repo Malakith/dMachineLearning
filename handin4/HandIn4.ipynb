{
 "cells": [
  {
   "cell_type": "markdown",
   "metadata": {},
   "source": [
    "# Machine Learning hand-in 4\n",
    "\n",
    "This handin is about implementing and using representative-based clustering\n",
    "algorithms.\n",
    "\n",
    "The handin is mandatory, and should be done groups of 2-3 students. Each group\n",
    "must prepare a report in PDF format as outlined below. Please submit all your\n",
    "Python files in a zip file, and your PDF report outside the zip file, to\n",
    "Blackboard no later than **Monday, December 19 at 9:00 AM**.\n",
    "\n",
    "All data and Python files are available below.\n",
    "\n",
    "For questions and issues regarding this hand-in, please use the\n",
    "[course discussion forum](https://bb.au.dk/webapps/blackboard/content/launchLink.jsp?course_id=_54703_1&toc_id=_830772_1).\n",
    "If you have problems that for some reason cannot be shared\n",
    "on the discussion forum, contact the teaching assistant, Mathias Rav, either\n",
    "by coming to his office, Nygaard 334, or by sending an email to [rav@cs.au.dk](mailto:rav@cs.au.dk)."
   ]
  },
  {
   "cell_type": "code",
   "execution_count": 1,
   "metadata": {
    "collapsed": true
   },
   "outputs": [],
   "source": [
    "import numpy as np\n",
    "%matplotlib inline\n",
    "import matplotlib.pyplot as plt"
   ]
  },
  {
   "cell_type": "code",
   "execution_count": 2,
   "metadata": {
    "collapsed": true
   },
   "outputs": [],
   "source": [
    "# oh so pretty!\n",
    "def float_formatter(x):\n",
    "    if x < 0.001 and x > 0:\n",
    "        return \"   >0\" \n",
    "    elif x == 0:\n",
    "        return \"    0\" \n",
    "    else:\n",
    "        return \"%.3f\" % x\n",
    "np.set_printoptions(formatter={'float_kind':float_formatter})"
   ]
  },
  {
   "cell_type": "code",
   "execution_count": 3,
   "metadata": {
    "collapsed": true
   },
   "outputs": [],
   "source": [
    "def plot_matrix(x, y, group, fmt='.', **kwargs):\n",
    "    \"\"\"\n",
    "    Given two d-dimensional datasets of n points,\n",
    "    makes a figure containing d x d plots, where the (i, j) plot\n",
    "    plots the ith dimension against the jth dimension.\n",
    "    \"\"\"\n",
    "\n",
    "    x = np.asarray(x)\n",
    "    y = np.asarray(y)\n",
    "    group = np.squeeze(np.asarray(group))\n",
    "    n, p = x.shape\n",
    "    n_, q = y.shape\n",
    "    n__, = group.shape\n",
    "    assert n == n_ == n__\n",
    "    groups = sorted(set(group))\n",
    "    if isinstance(fmt, str):\n",
    "        fmt = {k: fmt for k in groups}\n",
    "    fig, axes = plt.subplots(p, q, squeeze=False, **kwargs)\n",
    "    for i, axrow in enumerate(axes):\n",
    "        for j, ax in enumerate(axrow):\n",
    "            for g in groups:\n",
    "                ax.plot(x[group == g, i], y[group == g, j], fmt[g])\n",
    "            if len(axes) > 2:\n",
    "                ax.locator_params(tight=True, nbins=4)\n",
    "\n",
    "def plot_groups(x, group, fmt='.', **kwargs):\n",
    "    \"\"\"\n",
    "    Helper function for plotting a 2-dimensional dataset with groups\n",
    "    using plot_matrix.\n",
    "    \"\"\"\n",
    "    n, d = x.shape\n",
    "    assert d == 2\n",
    "    x1 = x[:, 0].reshape(n, 1)\n",
    "    x2 = x[:, 1].reshape(n, 1)\n",
    "    plot_matrix(x1, x2, group, fmt, **kwargs)"
   ]
  },
  {
   "cell_type": "markdown",
   "metadata": {},
   "source": [
    "## Data sets\n",
    "\n",
    "In this hand-in, you will work with two different data sets: The Iris data set (for clustering) and two images (for compression)."
   ]
  },
  {
   "cell_type": "markdown",
   "metadata": {},
   "source": [
    "### Iris data set"
   ]
  },
  {
   "cell_type": "markdown",
   "metadata": {},
   "source": [
    "The Iris data set is included in sklearn as the `load_iris` function in the\n",
    "`sklearn.datasets` module."
   ]
  },
  {
   "cell_type": "code",
   "execution_count": 4,
   "metadata": {
    "collapsed": true
   },
   "outputs": [],
   "source": [
    "import sklearn.datasets\n",
    "iris = sklearn.datasets.load_iris()\n",
    "data = iris['data']\n",
    "labels = iris['target']"
   ]
  },
  {
   "cell_type": "markdown",
   "metadata": {},
   "source": [
    "The Iris data set consists of 150 four-dimensional points."
   ]
  },
  {
   "cell_type": "code",
   "execution_count": null,
   "metadata": {
    "collapsed": false
   },
   "outputs": [],
   "source": [
    "data.shape"
   ]
  },
  {
   "cell_type": "markdown",
   "metadata": {},
   "source": [
    "The labels are integers between 0 and 2."
   ]
  },
  {
   "cell_type": "code",
   "execution_count": null,
   "metadata": {
    "collapsed": false
   },
   "outputs": [],
   "source": [
    "set(labels)"
   ]
  },
  {
   "cell_type": "markdown",
   "metadata": {},
   "source": [
    "One way of visualizing the four-dimensional point set is by projecting it down to two dimensions, for instance by picking the second and third dimension of the data set."
   ]
  },
  {
   "cell_type": "code",
   "execution_count": null,
   "metadata": {
    "collapsed": false
   },
   "outputs": [],
   "source": [
    "data_2d = data[:, 1:3]\n",
    "plot_groups(data_2d, labels, {0: 'o', 1: 's', 2: '^'}, figsize=(4, 4))"
   ]
  },
  {
   "cell_type": "markdown",
   "metadata": {},
   "source": [
    "We can also make all 16 different plots of this kind, that is, we can make 4 × 4 plots where the (*i*, *j*)th plot displays axis *i* of the data set against axis *j*."
   ]
  },
  {
   "cell_type": "code",
   "execution_count": null,
   "metadata": {
    "collapsed": false
   },
   "outputs": [],
   "source": [
    "plot_matrix(data, data, labels, {0: 'o', 1: 's', 2: '^'}, figsize=(12, 12))"
   ]
  },
  {
   "cell_type": "markdown",
   "metadata": {},
   "source": [
    "A third way of dealing with the data set in just two dimensions is by applying **principal component analysis** (PCA) as discussed in class.\n",
    "\n",
    "Luckily, sklearn contains a class to compute exactly this."
   ]
  },
  {
   "cell_type": "code",
   "execution_count": 5,
   "metadata": {
    "collapsed": false
   },
   "outputs": [
    {
     "data": {
      "image/png": "iVBORw0KGgoAAAANSUhEUgAAAQ0AAAEACAYAAACpjCPWAAAABHNCSVQICAgIfAhkiAAAAAlwSFlz\nAAALEgAACxIB0t1+/AAAIABJREFUeJztnX2YlHW9/18fNOPRzcI2BcF1E82eVuMA6um3QyFCmRZ5\ndfRAsWFxHgITFMEHzi6/7XQCPOBJ80pOJnnUo7VYpMUq/WIoUMiCTTQebB1WVEQtWNldMGA+vz/u\nmZ3Z2XtmZ3bue+7Znc/ruvZi5p7vzvfmYubN5/t5FFXFMAwjWwYEfQOGYfQtTDQMw8gJEw3DMHLC\nRMMwjJww0TAMIydMNAzDyAlPRENE7hORAyLyXJrXq0XkkIhsi/3c7sW+hmEUnpM9ep/7gbuABzKs\n+Y2qXunRfoZhBIQnloaqbgIO9rBMvNjLMIxgKaRP42IRaRKRX4jIBQXc1zAMD/HqeNITfwBGqWqH\niEwFfgaMKdDehmF4SEFEQ1Xbkh6vE5F7ROS9qvrX1LUiYsUwhhEQqtqjG8HL44mQxm8hIuVJj8cB\n4iYYcVS1ID+1tbUF28v2s/2Kfb9s8cTSEJGHgRDwPhF5GagFTnG+/7oKuFpE/gU4BhwB/sGLfQ3D\nKDyeiIaq/mMPr38P+J4XexmGESwlnREaCoVsP9vP9ssRyeUsUwhERIvtngyjFBARtMCOUMMwfEZV\nWbZoUU6OS68x0TCMPsSTa9aw/557eOqxxwK7BxONPIhEWpgxYwkTJ9YyY8YSIpGWoG/J6MeoKk/e\ncQcrDh+mcfnywKwN82n0kkikhcsuu4vm5iXAEKCdyspa1q+fS0XF6KBvz+iHNDY0IDNncnlHB42D\nByMPPMDlX/yiZ+9vPg2fWbx4dZJgAAyhuXkJixevDvCujP5K3MqY3NEB4AhHQNaGiUYvefXVKAnB\niDOE116LBnE7Rj/nyTVrmLJjR2fKtQCX79gRiG+jUAVr/Y4RIwYA7XQVjnbOPNN02PCeHZs30zZ2\nLM9I4vSgqgzdtMnTI0o2mE+jl5hPw+hvZOvTMNHIg0ikhcWLV/Paa1HOPHMA9fU1JhhGn8VEwzCM\nnLDoiWEYvmCiYRhGTphoGIaREyYahmHkhOVpZCAeHXn11SgjRlh0xDDAoidpsTwMoy+iqiy/5RYW\n/Md/IJLbqCGLnuSJ1ZYYfZFClM6baKTBakuMvkahSudNNNKQqC1JxmpLjOIluajNz2I2+wakob6+\nhsrKWhLC4fg06utrArsnw0hHIUvnzRGagXj0pLn5IK+/vo8PfOCDVFYOtiiKUXQkN+jpvJZjox6r\nPfEIi6IYfYHl8+bRtm1bl4iJqjL0ootYsHJlVu9houERM2Ys4aGHbiK1b8b06Xfw4IO1Qd2WYXiO\nhVw9wqIohtEVE40esCiKYXTFPvk9YFEUw+iKJz4NEbkPuAI4oKofS7Pmu8BUnG9fjao2pVlXVD4N\nsA5dRmlQUEeoiPw90AY84CYaIjIVmKOqnxWR8cB/qeqENO9VdKJhGKVAQR2hqroJOJhhyVXAA7G1\nW4EyESn3Ym/DMApLoXwaI4B9Sc9fjV0zDKOPYY5QwzByolBNeF4Fzkp6PjJ2zZW6urrOx6FQiFAo\n5Nd9GUbJEg6HCYfDOf+eZxmhInI28LiqftTltc8A34g5QicAd5oj1DCKi2wdoZ5YGiLyMBAC3ici\nLwO1wCmAquoqVf2liHxGRP6ME3L9qhf7GoZReKz2xDAMwGpPDMPwCRMNwzBywkYYeIyNPTD6O+bT\n8BBr2GP0ZcynEQA29sAoBUw0PMQa9hilgIlGBiKRFq66agHl5V+hvHwan//8PCKRlrTrrWGPUQqY\nTyMNkUgLodAKXn7528T9E7CYs85qY+PG21x9FObTMPoy1lg4T9I1FIbvMH36yWmbClvDHqOvUtA0\n8v5IOv8EDMjoo6ioGG1dyo1ek88A50Jhh+00pPNPQNR8FIZvFGKAc77Ypz8N9fU1jBp1K8kNhR2f\nxgFrKmz4QqEGOOeL+TQyEIm0cMMNd7N16wGgjQkTRrNy5Q1pnaCWCWrkQ/JoxVxHKnqBOUILiEVN\njHxRVeZffDErtm5FAAXmjx/PimeeKZhvwzJCC4hlghr58uSaNUzZsYP4N1aAy3fsKErfhkVPPMAy\nQY182bF5M21jx/JM6gDnTZsKekTJBhMND0hEWrrmdFiUpfDMXjibPQf2dLs+pnwMq5auCuCOsiPd\nZHdVZdmiRUUVgjXR8ID6+hq2bKnt5tOor58b8J2VHnsO7GFjxcbuL0QKfy9e0BmC/bu/KxqLw/4r\n9ICKitGsXz+X6dPvYOLEWqZPv8OcoEbeFGsI1iyNHMgUVrVMUMNrkp2jcadoMVgbJhpZ4hZW3bLF\nwqqGP3RaGR0dAFze0cH85cuZPG1a4L4NO55kiYVVjUJSzCFYszR6IH4keeKJZuAOoAaIWxYWVi02\nxpSPcXV6jikfU/ibyYNiDsFaRmgG3I4kzhyouTjC0c706XeYL8PoF1hGqAd0PZK04FgaA4H5wM5Y\nWLUmuBs0jACw40kGEpmeLcBdQMLiGDp0Lj/84XXmBDVKDrM0MpDI9FxNQjAAhtDWdherVv0qqFsz\n+iDx7E6vj99+vW86TDQyUF9fQ2VlLXAMqy0x8sWvBjuFbtxjopGBeKbniBE7sC7jRj74ld0ZRNao\nJ596EZkiIrtEZI+ILHR5vVpEDonIttjP7V7sWygGDCgHbiG5i9eZZ95sTlAja9yyO4v5fTORd8hV\nRAYAe4BPA68BzwLXqOqupDXVwI2qemUW71c0IVeIdyX/ErASKMfR2SiDBu3hhReWmSO0DxB05atf\nDXa8ft9CdiMfB7yoqi2xjR8BrgJ2pawrjrreHHEiKD/GEY2EX+PIkXYWL7Ycjb5A0JWvmbI780nU\n8ut9e8IL0RgB7Et6/gqOkKRysYg0Aa8CC1T1Tx7s7TtOBMUcoUETtLWQD35ldwaVNVqoPI0/AKNU\ntUNEpgI/A9Lm9dbV1XU+DoVChEIhv+8vLfX1NaxdO5e2NmuyEyRBWwu5kDq7JF2DnXxxe9/43qra\n4xElHA4TDodz3tcL0XgVGJX0fGTsWieq2pb0eJ2I3CMi71XVv7q9YbJoBE1FxWh+8YuFTJ36r3R0\n3EM8uWvUqFupr5/fbb11JTeCbJyTy96p/yEvWbIkqz28EI1ngQ+KyGhgP3ANcG3yAhEpV9UDscfj\ncBywroJRjJx11kje975309HxHeKOUNUj3dZZ+byRHAItdCl7ofbOWzRU9YSIzAGewvlG3aeqO0Xk\nn5yXdRVwtYj8C45z4AjwD/nuW0gWL17Nvn1dHaH79u3kU5+az9lnf6TTokhfPm8O0yApZOVrkI1z\nCrW3Jz4NVW0Ezku5dm/S4+8B3/NiryDo3m28BbiPvXsfYO/ehEVx+uknYQ7TYPDLUZrLbNUgG+cU\ncm8rWMuC7t3GV5Nai9LcvIRXXvkc1pXcH3qyFvxylObiIwgqBFrovU00sqC+vobf/GYe+/bFk7te\nws2ieOedjwGLgXqsK7m3BBFWzdVHkBwCVVX2RSKMrKhgWA8hUC8mxRcy/GqikSUig4BFOGKwGDeL\nAk7D6ez1HcrLW5g0qZL6enOC9lXS+QjSfcmTQ6CNDQ28PWsWl15/fVYWSr7RFr/Cum6Y3ZwFixev\n5uWXv01CJL5GQjgg0dGrBqejVz0XXFDBgw/WmmD0UeJWxuQkH0G8IKynqtJcishS10aj0YKWufcG\nEw0XIpEWZsxYwsSJtcyYsYTm5g66WhWjgW9SXv5lysu/AnyHRAtAMD9G3yedj+DJNWtcBSG5p0W6\nIjK3vhepa5fefHNBy9x7gx1PUuiaa/EW8J/AduB24F0krInhTJr0cerra2Lrh8fewfwYXjN74Wwe\nf+Zxjvyta27MIB3E50KfY9XSVZ6HVdP5CN66/36udDmyxK2PJ8eOTRvFSD2GuEU87v3+91nT3s6N\nRTKuwBVVLaof55aCY/r0OoU2hb0KX1eYF3uusT9vVPiTVlbeqC+9tFdVVV96aa9On16nEyf+m06f\nXtd53fCG6pnVSh3df6rR6pnVBbuPaDSqN4wfr1Hnw6BR0BvGj9cTJ050Xq8591xdN2iQxj4wqqDr\nBg/WdT/5SeeaG8aP12g0qut+8hNtHDy4y9rHQRtjv9PY0FCwv5uqauy71+N31CyNFBI5GXfglMLH\nnZ/E/lzC2Wd/hfXrV9h0tRIj3ZFl6c03d17/QiTCo+eeyzOnn862SISLKioAXC2U1GhL8/btnHP4\nMMOAm4poOFIqJhopJHIyojgun+6h1YqKj5iDsxhohaZdTYRqQl0u+1X56nZkiaryhwcfZFHsiPG5\n48fZcOqpTJgzh7evu45Lrr+eydOmMf/ii7s4VecvX96l70VjQwOXzJzJ5Un7FdMoxmRMNFKYPXsS\njz76RY4fPx1oA3YCH0paYU7OokGhdWorG0lJ6sqQ0JVP5qhbWLOxoYFLZ87sYn1Mfu45fnzbbfww\nlt8RjUa5/LnnWA4swD3xqpiHI6ViopFEJNLCrFk/5fjxNSSGI30DWIgjHOmrW42+gdeZo25f9pY3\n3mDaiy92isPaH/2Io2efzaA9e7juvPMYdfrp3QShUHkW6kEimYlGEm4FZ/A9BgyYymmnncWll57J\nnXfOt6NJgRlTPobd/293t+hJx5EOjnGs2/rdO3d3O7LE38cVhYN/eCmrHhSppH7ZNdaC74rjx4FY\nfsdbb/HuYcNYeeIE84cNo3bDhsD8FF4kkpmdnUT3wjSAIYwbN4EpU8bw9tuDWbx4NZFISxC3V7Ks\nWrqK/b/Zz6Ethzi05RBfqv4SVedXMfi0wbCBxM9vnfVH5AgbKzZ2+3E7lgAM/hOM3/WaJ7kRbs7S\nSU1NfKCpKfAhzupR53KzNJLoXpgG0M7zz+9iy5b/xXpkFAedR4yKlBc29OLNFD76NNx7/ETO0Qo3\nUz/1uKKq/Hn7dj5++DBQ2MrXVLwqnTdLI4nEcKREevjQoXNpa1tK9x4Zq4O4RSMDZUfLqI5UM+iU\nQVn/zuA/wYI36JUV4JZOvmDlSpZs3EhdOExdOMzFc+fylRMnuDn2elDWRtzKcEuLzxWzNJKID0da\nvPgOXnstyplnDuDPfz6VrVs/lLJyCM3NB5kxY4m19fORdJGO3Tt3d7cygKrzqwivDhOqCfE6r7u+\nZ3LmqKoycMN2ph1LbwWkcxwmm/qZLIdiiYp4WTpvopFCaqLWjBlL2Lo19ciyk+eff5stW/4dO7L4\nR7pIR9musl6/Z3JYtbGhAWmYmfGLlM5x6GbqT542rZvAFLL6NBNeipeJRg/Mnj0p1o38LhIT4xfS\n1hb3cYC19Ssusq1D6emLlM6a6LyekqwVjUYDayjcE16Kl4lGBuJ5G21tC3DSyo8xdOhznHtuBdu3\nW1s/P0g+kjTtanI9hgw6ZRBVkapu1+OikG02aE9fpHSOQzdTPzWhqxjTv72iX4tGvuMEuuZtOBZE\nW9tO9uyZg7X184cuR5K97mvOO+c8wqvDvt5HOmti8rRp7Ni8mcOf+AR3793LRRUViEi3hK5iTP/2\nin77KY+XuD/00E2Ew0t46KGbuOyyu3LKsUjXULi9/W4cEUlEWZxy+BqP7t4ImifXrOHyNI7DBStX\ncsn11/PBQ4e45Prrqd2wgfecemrXhK4CTXAPgn5raeQ7TiASaWHv3ufp2kdjNYmGwnOJH1lGjNjB\nRz5yDrNm/dAiKV5yMp25F2VHy6g63zmS+DF6IJUdmzfTMno039q5kws/9CHe9/73d/o7Jk+b1sXX\nEY1GA2soHAT9VjTSZXdm43eIWyl79z5AogalFngn6T1HEz+y/OUv01m79ltYJMVjPpl4WBWp8v1I\nksxNK1ZwzZgxjAX2HzvGd5NSvxsbGrr4Oh7/0Y8YXgRh1ULRb0UjXXanm98h1fdx+HCbSw3KEoYM\nuZL29u7vefToOVgkpe+TnJPR2NDA4OZmVgKzmpsd5+fVV7v6Op586y3qksrc+zv9VjTq62vYsqW2\ny4hEtzZ8bqMUBw6cjZuV8tGPfoI336xNWTuXo0dTxcEiKb0ll7Z9Xg9ISm7Zt/rWW/mqKgJ8SZX7\nb7klbeSkPx9F3Oi3ouGW3ek2TsDN9+FYDt0tisrKITz8cE2X92xrK2Pt2uF0xSIpvSWXL7uXZe7J\nORlfveUWBjc3dzbEmQL8OGZtFEuGZ5D0W9GA7Nrwufs+vsagQXM5ciSR0BW3UlLfMxJp4fnne7Zo\njOIm2YI456WX+Dh0sSauVOVnq1fz/SeeCO4mi4R+LRrZ4O77GM7kyWUMHZrZSoHsLRqjeEn1UwyM\nRvnxsGH8auRIDu7ezbvOPJO/vfYa7wn4PosFT0RDRKYAd5KYGr/UZc13gak439AaVW3yYu98Sef7\nWLnyBioqRnc6STOFU62xcP74NcA5G1L9FDcD606cYPWxYzwSjTLt4EHWRKPc+NZbvWrU09/IWzRE\nZABwN/Bp4DXgWRFZq6q7ktZMBSpV9VwRGQ98H5iQ795ekMlScHOSWjjVH/wa4JwNbn6Kv7z5JsP3\n7EGA69rbWU/pOTzT4YWlMQ54UVVbAETkEeAqYFfSmquABwBUdauIlIlIuaoe8GD/vElnKeSbIGb4\ni1cDktK17FsRy/D8LDAf+M+Ojl4NMfKiL2cx4YVojAD2JT1/BUdIMq15NXatKEQjHfkkiBn+49ex\nxTWsCr22Nrzoy1lMFKUjtK6urvNxKBQiFAoFch89JYjlWxBnZEeh/R3x48qjzc2cOHzYKYcHDg8d\nykcrKzOGV1Otimyb9QRBOBwmHA7n/HuSb1GNiEwA6lR1Suz5IpzxbkuT1nwf2KCqj8ae7wKq3Y4n\nIqLFUujj5tOorHR8GkDa10w4cidUE3L1aVRHqgHSvlbI1PJsaGxo4MlZs5hy//1c/sUvOo1+Zs50\nitgGD0YeeKBorY2YyPWoaF5YGs8CHxSR0cB+4Brg2pQ1P8cZIPJoTGQOFYs/IxOZnKTONHnzd2RL\nT9ZCJv9Eui7ixUaqVXHZF76Qtry+WKyN3pC3aKjqCRGZAzxFIuS6U0T+yXlZV6nqL0XkMyLyZxx7\n/6v57us16Y4a6Zyk5u/IjZ6iI5mOGW4zTAB2v5R+vonfYVo3Upv2JM94hf6Tcu6JT0NVG4HzUq7d\nm/J8jhd7+UFvQqu5FMQZ/nDkb0cCC9Om4lbIdv9DD3HkE5/gmQEDuqzr6ynnRekILTTpQqszZlzH\nH//4JkePvpeBA//KD37wr1xzjfOPnW1BnJGZ1AHOQVkJ+eIWcfnq228j3/xmnxYIN0w0SHfUaOTp\np9+F444ZQnt7O9de+88AXHPNFy193CNaB7Z2tRbS5V3Eru9+KTGeseNgR9r3LXRuRCkVsploAKee\n2kH3o8b3gMdJtj7g+3zta1d2WhuWPl4Yki2PLlGWDBPVCp0bUSyjCgpByR/AI5EWtm9vBRaT3PMT\nTsPN0dneXsbEibXMmLHEZrrmwJjyMVRHqjt/ytaVOV96H/7bcptZqqosW7So3/btLCQlb2ksXrya\nfftWAm/h9PyMAlFOOukAJ050d3SCEg4vwepQciPVT5EuLyMZtzBt064mJ+f4k3TrIfrx8z7OoW0R\nyipOZsqO33eJVqhqv8rKDJKSF42EPyMxpgBg0KCJtLX9M05tXbxP6DeAm2IrLC/Db1zDtBUkjiUp\nPUQXXTGHxp/OYv/Rl7vMLJ23bBmIsLIIszL7IiUvGulCp21tfw9U4ZQrnYZjiZwHjExaZ3kZvSWv\nYrNDJITjZOCTiSPJysOHmdXW1rlUgPKmJj4m0us8if5WcJYvJS8abqFTx7/xzdiKscB1wI+BYzij\nCxYCl2J5Gb0nr7Dqe4CJzsOydWVURaooO5Q4klwFfAY494ILOG34cF7Yvp1Fh9MPee6J/lZwli8l\nLxqpodMXXtjBG2+sxBlRsARHMO4jMe+kHUc43ktl5X2Wl5EFfhacVZ1fxYb7NzD/4os7jyRXqRIG\nGDqUCXPmMO7LX846KzObgjOAZYsWgQg3l6D1UfKiAY5w1NfXcMMNd9PaCnADcDZwCo6FkTrO4C7O\nPvsrrF+/wpygWeB3gx23xKopwPamJp5YvZpDp5zC7955h+Zhw6i88EKAtPkTqVaF2zxXVWXbd7/L\n+0VK0vow0cAJu4ZCK3j55W+TsCbm4NTfDcLxZyT7PIZQUfEREwyfSfZ7NO1qonVgq/Mk5VMbT6x6\nGmjevp3K2FFkyN/+RseLL/Ll48eZAjSeOIFcf33GsvaeCs7mLVuGAmccPcpKYF7KNPlS8H2YaOCE\nXROCQezPu3FCsDeR8HHERaI0fRmF7muRNqkrhXhiVWNDA5fMnNk5egBgbXMzRB1ndU/+jGwKzsqb\nmohGo4yNPZ/U1NRlmnwp+D5MNEhfserkbAwB6oHvxP4s3RqTXI8ZcZFp2tXkhErzIJtoS2oq91/f\nfBPduZNROMeVTP6MbArOVJXnt23jrLY2Jsd+77PvvMO8ZKukBMK6JhqkD7smEmaHUF7ewgUX1FqN\nSQ50isze/N8rG0smNZV7+bx5tA0fThvwuUiEiyoc5XLzZ2RTcNbY0MDA6dO5iK4zUSY1NXWxSvpD\n+XsmTDRwwq6//e2tKT6NWpwoCUA7kyZVWhJXb4lnbr4BnAInRU9i6OCh7D7F6Yfh1/Em+djy9qxZ\nXJLBn5FNwdmOzZt59vTT2dXWxv8mrTlp2DAOPPggi/pZs5105N3uz2uCavcXibRwww13s3nzqxw8\n+Bei0TuBDwHtjBp1K+Hw/JK3LjK15Iu33Uv2ezTtaqJ1amti4QY68yvS/b7XdHYW37qV+ePHs8KH\nQc3JLf06rxV5az83Ctnur19QUTGatWuXE4m0UF397+zb9zDO8SSK6pGgb6/P0MXvsTfQWwG6Ozf9\nODaUUlk8lLBopGvvlyhgS/g39u1rtxoTvJsz4ifJlo6qMvCX22n0+dhQSmXxUKKikam9n/X+TE/O\nfoeTgUdxcuSOx66l1Iwk40VIN9nSGfwCPNBKv+vRGTQlKRqZJqdZ78+u5PVF/iRp/RhuDXS8zhwt\nexm+eybcBbznaBlV51f162NDoShJ0chkTdx33yzr/ZmEXyngZUedQjPIcLz5LXAcmo72ro/o/qlO\nTi9AdaSKupizNd6Qp79nbvpFSYpGJmvCen/mR7fU76Otruuqzq/qOWJyHJgIrbSykcx9RHOhVDI3\n/aIkRaOnTuLW+7P3JFsAZ4w/g1bcRSMoinlMYl+hJEXDrIkC8W6cer8smL1wdkHSzQsRgu3vlKRo\ngFkTheC8c87j9Vde7+b0LDtaxpjqrn6MPQf20Dq0tevaQ7nvmWzpJDtx9xzYQ/XM6oKEYPs7JSsa\nRnbknZvxye6XqiJV7o7M1LUZRhRkQ6oT10Kw3mCiYWQk0GlnJ8fa+Z1f1eVyb5PJ4iHY/zmaeE8L\nweaOiYZRvHzSsUq8qkuJh2CTw69G7uQlGiJyGk7O32icSoMvqWo3d7mI7AVacRpUHFPVcfns6wXp\n0sgN78j2aNPpBN2bsvBkujZ/N4qCfC2NRcCvVHWZiCwEboldSyUKhFT1YJ77eUJvpsQbuZNL6neX\natgYZevKiqquxXDIVzSuAqpjj38EhHEXDSGAEZCZitLSpZFbRMUfMqWjp6Pq/DQO0yzpjRO3VPp8\n5kO+ovF+VT0AoKqvi8j706xTYL2InABWqep/57lvj1hRWnHhd0dyN3ojOJYt2jM9ioaIrAfKky/h\niMDtLsvTdc+5VFX3i8jpOOKxU1U3pduzrq6u83EoFCIUCvV0m92wojQjE24WRalli4bDYcLhcM6/\n16NoqOpl6V4TkQMiUq6qB0TkAzgN3dzeY3/szzdF5KfAOCAr0egtVpQWPKldvPLJ9vS6E7qbRVFq\n2aKp/yEvWbIkq9/L93jyc6AGWArMBNamLhCRwcAAVW0TkSHAZJzpQ75iRWnBk20Xr2x8D14eb9JN\nTUvtRl4K1kZvyFc0lgI/FpFZQAvwJQAROQP4b1W9Audo81MR0dh+D6nqU3nu2yO5FKVZ+DU/0lkB\nu3fuzsq6KEQCWTQa5epLLqHh6ad56rHHXKempXYjLwVrozfkJRqq+ldgksv1/cAVsccRnPHrBSVb\na8LCr/mTzgoo21WWeBLvSE6sl8b5PfTS8JilCxZQvnUrS2++mTc2bepmUZwxYQLtJdTnMx/6dUZo\nNkVpFn4tEEl1JV5meabi5uCMRqP87t57eQy44u67mTNgQDeLQhYs4PI77/Tlnvob/Vo0ssHCr/0L\nNwfn0gUL+Fp7OwJ8/Z13+OHIkWytrOz8HbMocqPkRcPCr/4x6JRBnS39kunNkSQbZ6mbg1NV+d29\n93ZmHF4F/OjgQf7t179mwAD7N+4NJT8syc2nUVlpPo1cyGaIUiFIHloUH1a07emn+diKFXw2ad0T\nwPM33cSi5csLdm99ARuWlCUWfs2fYpiH4jbAef7y5bz2zjvsOvVUfpLi4Dz6q18V7N76GyVvaRiF\nx+tELeg/oxGDxCwNw3Oy/bL3tM6POpRSG40YJCYaRtak+7I3rWtiT40jEmPKxwRSnFZqoxGDxETD\nyJvWga0JkfBRGIziwETD8JSmXU3OgzxHERjFi4mG4SmtA4trOJLhPSYa/Rg/ohReUAwhWqP3mGj0\nY7x2SHab0xq3KlI/RT2MHiiEYFnbPv8w0TCyxi2s2ike8cFGJ+P56IHeEK9BeXLsWJ77/e9NPDzE\nRMPoFXEBSZdCHiTJNSizbr2Vsv37reenh5hoGHlRjP6J5LZ9n29u5t3RKI3WhcszTDSMvAh0bKML\nqTUoV0ajzAcmP/ecdeHyCBONfkxQVkCQUZtkKwNiTXYAjhwxa8MjTDT6MUFZAUGkkceJ16D84q23\nYOdO3quKAkOxnp9eYaJh9CviNSjL582jbfhwEEFw2iw9YwVsnmCiYfRLrIDNP6zfmWEYOWGiYRhG\nTtjxxPCcYszdMLzD2v0ZhgFYu7+csdGMhpEdZmlgYwwMA7K3NMwRSqbRjKsDvCvDKE7yEg0RuVpE\nnheREyL5osWdAAAG3klEQVRyUYZ1U0Rkl4jsEZGF+ezpBzaa0TCyJ19LYwfwBSBtbbSIDADuxikB\n+DBwrYicn+e+npIYzZiMjWY0DDfy+lao6m5VfRHIdA4aB7yoqi2qegx4BGekZtFQX19DZWUtCeFw\nfBr19TWB3ZMfzF44mzPGn8F7Jryny88Z/+cMZi+cHfTtGX2EQkRPRgD7kp6/giMkRUOpjGbcc2AP\nrw96HSZ2vd5KK3si3atSDcONHkVDRNYD5cmXAAVuU9XH/bqxQlNRMZoHH6wN+jYMo+jpUTRU9bI8\n93gVGJX0fGTsWlrq6uo6H4dCIUKhUJ63YBhGKuFwmHA4nPPveZKnISIbgJtU9Q8ur50E7AY+DewH\nfgdcq6o707yXZYT6RKgmxMa9G7sdTwCqI9WBNgI2gqcgeRoi8nkR2QdMAJ4QkXWx62eIyBMAqnoC\nmAM8BbwAPJJOMAzDKH7ycoSq6s+An7lc3w9ckfS8ETgvn72M/BlTPobdO3dzZN2RLtcHnTKIMRdb\nMZmRHZZGbhgGYGnkhmH4hImGYRg5YaJhGEZOmGgYhpETJhqGYeSEiYZhGDlhomEEjqqybNEiLNTe\nNzDRMALnyTVr2H/PPTz12GNB34qRBSYaRqB0Tnk/fJjG5cvN2ugDmGgYgZI85T0+oNkobkw0jMCI\nWxmTOzoAuLyjw6yNPoDNPTEApxXgngPdu3eNKR/DqqWrfNkz2coAulgbNtm9eDHRMACnFeDGCpf+\n0C7jFb1ix+bNtI0dyzOSqJFSVYZu2mSiUcSYaBiBsWDlyqBvwegF5tMwDCMnTDQMw8gJEw3DMHLC\nfBoG4ERJ3JyeY8qtDaDRFWv3ZxgGYO3+DMPwCRMNwzBywkTDMIycMNEwDCMnTDQMw8gJEw3DMHLC\nRMMwjJww0TAMIyfynRp/tYg8LyInROSiDOv2isgfRWS7iPwunz0NwwiWfC2NHcAXAJdGDF2IAiFV\nvVBVx+W5p2eEw2Hbz/az/XIkL9FQ1d2q+iLQU+qp5LuXH/T3D4HtZ/v5QaG+yAqsF5FnReTrBdrT\nMAwf6LHKVUTWA+XJl3BE4DZVfTzLfS5V1f0icjqOeOxU1U25365hGEHjSZWriGwAblTVbVmsrQUO\nq+qKNK9biathBEQ2Va5e9tNw3UxEBgMDVLVNRIYAk4El6d4km5s2DCM48g25fl5E9gETgCdEZF3s\n+hki8kRsWTmwSUS2A1uAx1X1qXz2NQwjOIquCY9hGMVN0YVB44jIjSISFZH3+rzP/01KPGsUkQ/4\nvN8yEdkpIk0iskZETvV5v6wS8DzYZ4qI7BKRPSKy0K99YnvdJyIHROQ5P/dJ2m+kiPxaRF4QkR0i\ncr2Pe71bRLbGPo87Yj5A3xGRASKyTUR+3tPaohQNERkJXAa0FGC7Zar6cVW9EPgF4Pc/0lPAh1W1\nCngRuMXn/bJNwOs1IjIAuBu4HPgwcK2InO/XfsD9sb0KxXFgvqp+GLgY+IZffz9VfQeYGPs8VgFT\nRaQQCZHfBP6UzcKiFA1gJbCgEBupalvS0yE42at+7vcrVY3vsQUY6fN+2Sbg5cM44EVVbVHVY8Aj\nwFV+bRYL1x/06/1d9ntdVZtij9uAncAIH/friD18N06wwlcfQuw/6c8AP8hmfdGJhohcCexT1R0F\n3PNbIvIy8I/AvxVqX2AWsK6A+/nFCGBf0vNX8PFLFSQicjaOBbDVxz0GxAIHrwPrVfVZv/aKEf9P\nOitxCmSEQYaEsduBW3GOJsmv+bXfbar6uKreDtweO4vPBer83C+25jbgmKo+nM9e2e5n5I+IDAUa\ngG+mWKieErNEL4z5u34mIheoalZHh1wRkc8CB1S1SURCZPF9C0Q0VPUyt+si8hHgbOCPIiI4pvsf\nRGScqr7h9X4uPAz8kjxFo6f9RKQGxxz8VD77ZLtfAXgVGJX0fGTsWr9BRE7GEYz/UdW1hdhTVd+O\nJU5OIUt/Qy+4FLhSRD4DDAKGicgDqvqVdL9QVMcTVX1eVT+gqueoagWOmXthPoLREyLywaSnn8c5\nr/qGiEzBMQWvjDm9Colffo1ngQ+KyGgROQW4BujRC58ngr9+mlR+CPxJVf/Lz01EZLiIlMUeD8Kx\nunf5tZ+q3qqqo1T1HJx/t19nEgwoMtFwQfH/g/EdEXlORJqASTheZD+5CxiKU4OzTUTu8XOzdAl4\nXqKqJ4A5OJGhF4BHVNU38RWRh4GngTEi8rKIfNWvvWL7XQpMBz4VC4Vui4m/H5wBbIh9HrcCT6rq\nL33aq1dYcpdhGDlR7JaGYRhFhomGYRg5YaJhGEZOmGgYhpETJhqGYeSEiYZhGDlhomEYRk6YaBiG\nkRP/Hxq0vPlLJHpuAAAAAElFTkSuQmCC\n",
      "text/plain": [
       "<matplotlib.figure.Figure at 0x1d56de22828>"
      ]
     },
     "metadata": {},
     "output_type": "display_data"
    }
   ],
   "source": [
    "import sklearn.datasets\n",
    "import sklearn.decomposition\n",
    "\n",
    "# Load Iris data set\n",
    "iris = sklearn.datasets.load_iris()\n",
    "data = iris['data']\n",
    "labels = iris['target']\n",
    "# Apply PCA\n",
    "pca = sklearn.decomposition.PCA(2)\n",
    "data_pca = pca.fit_transform(data)\n",
    "# Plot\n",
    "plot_groups(data_pca, labels, {0: 'o', 1: 's', 2: '^'}, figsize=(4, 4))"
   ]
  },
  {
   "cell_type": "markdown",
   "metadata": {},
   "source": [
    "### Image compression data\n",
    "\n",
    "For the image compression part of this hand-in, you will use the following two images."
   ]
  },
  {
   "cell_type": "code",
   "execution_count": 6,
   "metadata": {
    "collapsed": false
   },
   "outputs": [],
   "source": [
    "import scipy.misc\n",
    "\n",
    "def download_image(url):\n",
    "    filename = url[url.rindex('/')+1:]\n",
    "    try:\n",
    "        with open(filename, 'rb') as fp:\n",
    "            return scipy.misc.imread(fp) / 255\n",
    "    except FileNotFoundError:\n",
    "        import urllib.request\n",
    "        with open(filename, 'w+b') as fp, urllib.request.urlopen(url) as r:\n",
    "            fp.write(r.read())\n",
    "            return scipy.misc.imread(fp) / 255\n",
    "\n",
    "img_facade = download_image('https://users-cs.au.dk/rav/ml/handins/h4/nygaard_facade.jpg')\n",
    "img_stairs = download_image('https://users-cs.au.dk/rav/ml/handins/h4/nygaard_stairs.jpg')"
   ]
  },
  {
   "cell_type": "code",
   "execution_count": null,
   "metadata": {
    "collapsed": false
   },
   "outputs": [],
   "source": [
    "plt.imshow(img_facade)"
   ]
  },
  {
   "cell_type": "code",
   "execution_count": null,
   "metadata": {
    "collapsed": false
   },
   "outputs": [],
   "source": [
    "plt.imshow(img_stairs)"
   ]
  },
  {
   "cell_type": "markdown",
   "metadata": {},
   "source": [
    "## Tasks\n",
    "\n",
    "### Implementing EM and the K-means algorithm\n",
    "\n",
    "You must implement the K-means algorithm and the Gaussian Mixture Expectation\n",
    "Maximization algorithm as discussed on p. 349 and p. 335 of the textbook [ZM].\n",
    "For the EM algorithm, you may use the `pdf` function below to compute the probability\n",
    "densities in the Gaussian Mixture model.\n",
    "\n",
    "You should use the Python code displayed previously to load and display Iris data\n",
    "and apply PCA to reduce it from four dimensions to two.\n",
    "\n",
    "Use the 2d Iris data to validate your algorithms (compare the results you get\n",
    "with the results in the textbook on the same data), and run your algorithms on\n",
    "the 4d data and compare."
   ]
  },
  {
   "cell_type": "markdown",
   "metadata": {},
   "source": [
    "#### Code structure\n",
    "\n",
    "You are allowed to structure your code however you want, but you may want to use the following guidelines to get started.\n",
    "\n",
    "You can structure your implementation of the K-means algorithm as follows.\n",
    "First, you should implement a function `closest` that takes an `n × d` data matrix and a `k × d` matrix of centers and computes for each data point the closest center."
   ]
  },
  {
   "cell_type": "code",
   "execution_count": 6,
   "metadata": {
    "collapsed": false
   },
   "outputs": [],
   "source": [
    "def closest(data, centers):\n",
    "    n, d = data.shape\n",
    "    k, d_ = centers.shape\n",
    "    assert d == d_\n",
    "    \n",
    "    # Insert your code here\n",
    "    dist = np.zeros([n,k])\n",
    "    for kk in range(k):\n",
    "        center = centers[kk,:]\n",
    "        for nn in range(n):\n",
    "            dist[nn,kk] = np.sqrt(np.sum((data[nn,:]-center)**2))\n",
    "    rep = np.argmin(dist, axis=1)\n",
    "    \n",
    "    # rep should contain a representative index for each data point\n",
    "    assert rep.shape == (n,)\n",
    "    assert np.all((0 <= rep) & (rep < k))\n",
    "    return rep"
   ]
  },
  {
   "cell_type": "markdown",
   "metadata": {},
   "source": [
    "You should implement a function that implements the K-means cost function, that is, a function that takes an `n × d` data matrix, a `k × d` matrix of centers, and a representative array mapping each data point to a center."
   ]
  },
  {
   "cell_type": "code",
   "execution_count": 7,
   "metadata": {
    "collapsed": false
   },
   "outputs": [],
   "source": [
    "def kmeans_cost(data, centers, rep):\n",
    "    n, d = data.shape\n",
    "    k, d_ = centers.shape\n",
    "    assert d == d_\n",
    "    assert rep.shape == (n,)\n",
    "\n",
    "    # Insert your code here\n",
    "    data_rep = centers[rep]\n",
    "    cost = np.sum(np.sqrt(np.sum((data_rep-data)**2)))\n",
    "\n",
    "    return cost"
   ]
  },
  {
   "cell_type": "code",
   "execution_count": 8,
   "metadata": {
    "collapsed": true
   },
   "outputs": [],
   "source": [
    "# test kmeans_cost: (Martin)\n",
    "assert kmeans_cost(data,data,closest(data,data)) == 0.0"
   ]
  },
  {
   "cell_type": "markdown",
   "metadata": {},
   "source": [
    "Finally, you should implement the K-means algorithm described in class. You should have a stopping parameter `epsilon` and stop when the centers move less than `epsilon` in an iteration."
   ]
  },
  {
   "cell_type": "code",
   "execution_count": 9,
   "metadata": {
    "collapsed": false
   },
   "outputs": [],
   "source": [
    "def kmeans(data, k, epsilon):\n",
    "    data = np.asarray(data)\n",
    "    n, d = data.shape\n",
    "\n",
    "    # Initialize centers\n",
    "    # randomly chosen points from data is used as centers (same datapoint)\n",
    "    centers = data[np.random.choice(range(n), size=k, replace=False),:]\n",
    "\n",
    "    tired = False\n",
    "    old_centers = np.zeros_like(centers)\n",
    "    while not tired:\n",
    "        old_centers[:] = centers\n",
    "\n",
    "        rep = closest(data, centers)\n",
    "        for kk in range(k):\n",
    "            if any(rep==kk):\n",
    "                centers[kk,:] = np.average(data[rep==kk,:], axis=0)\n",
    "        dist = np.sqrt(((centers - old_centers) ** 2).sum(axis=1))\n",
    "        tired = np.max(dist) <= epsilon\n",
    "\n",
    "    return centers"
   ]
  },
  {
   "cell_type": "code",
   "execution_count": 10,
   "metadata": {
    "collapsed": false
   },
   "outputs": [
    {
     "name": "stdout",
     "output_type": "stream",
     "text": [
      "(150, 2)\n",
      "[[616 449]\n",
      " [382 318]\n",
      " [ 33 728]\n",
      " [152 111]\n",
      " [696 704]\n",
      " [449 676]\n",
      " [389 106]\n",
      " [144 405]\n",
      " [214 725]\n",
      " [663 134]]\n"
     ]
    },
    {
     "data": {
      "text/plain": [
       "[<matplotlib.lines.Line2D at 0x1d56ecba080>]"
      ]
     },
     "execution_count": 10,
     "metadata": {},
     "output_type": "execute_result"
    },
    {
     "data": {
      "image/png": "iVBORw0KGgoAAAANSUhEUgAAAX0AAAEACAYAAABfxaZOAAAABHNCSVQICAgIfAhkiAAAAAlwSFlz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\n",
      "text/plain": [
       "<matplotlib.figure.Figure at 0x1d56e4f2ac8>"
      ]
     },
     "metadata": {},
     "output_type": "display_data"
    }
   ],
   "source": [
    "# test kmeans\n",
    "\n",
    "data = np.random.choice(range(800), size=300, replace=False).T.reshape(-1,2)\n",
    "print(data.shape)\n",
    "plt.figure()\n",
    "plt.plot(data[:,0],data[:,1], '*')\n",
    "\n",
    "clusters = kmeans(data,10,0.0000001)\n",
    "print(clusters)\n",
    "plt.plot(clusters[:,0],clusters[:,1], 'ro')"
   ]
  },
  {
   "cell_type": "markdown",
   "metadata": {},
   "source": [
    "For your implementation to the Gaussian Mixture exercise, you may want to use the following two helper functions.\n",
    "\n",
    "The first function takes a description of a Gaussian Mixture (that is, the mean, covariance matrix and prior of each Gaussian) and returns the probability densities of each point."
   ]
  },
  {
   "cell_type": "code",
   "execution_count": 11,
   "metadata": {
    "collapsed": false
   },
   "outputs": [],
   "source": [
    "from scipy.stats import multivariate_normal\n",
    "def pdf(points, mean, cov, prior):\n",
    "    points, mean, cov = np.asarray(points), np.asarray(mean), np.asarray(cov)\n",
    "    prior = np.asarray(prior)\n",
    "    n, d = points.shape\n",
    "    k, d_1 = mean.shape\n",
    "    k_2, d_2, d_3 = cov.shape\n",
    "    k_3, = prior.shape\n",
    "    assert d == d_1 == d_2 == d_3\n",
    "    assert k == k_2 == k_3, \"%s %s %s should be equal\" % (k, k_2, k_3)\n",
    "\n",
    "    # Compute probabilities\n",
    "    prob = []\n",
    "    for i in range(k):\n",
    "        if prior[i] < 1 / k ** 3:\n",
    "            prob.append(np.zeros(n))\n",
    "        else:\n",
    "            try:\n",
    "                prob.append(\n",
    "                    prior[i] *\n",
    "                    multivariate_normal.pdf(\n",
    "                        mean=mean[i], cov=cov[i], x=points, allow_singular=True))\n",
    "            except:\n",
    "                print(cov[i])\n",
    "                assert False\n",
    "    prob = np.transpose(prob)  # n x k\n",
    "    # Normalize cluster probabilities of each point\n",
    "    prob = prob / np.sum(prob, axis=1, keepdims=True)  # n x k\n",
    "\n",
    "    assert prob.shape == (n, k)\n",
    "    assert np.allclose(prob.sum(axis=1), 1)\n",
    "    return prob"
   ]
  },
  {
   "cell_type": "code",
   "execution_count": null,
   "metadata": {
    "collapsed": true
   },
   "outputs": [],
   "source": [
    "from scipy.stats import multivariate_normal\n",
    "def init_glob(points, clusters):\n",
    "    global g_n \n",
    "    g_n = points.shape[0]\n",
    "    global g_d \n",
    "    g_d = points.shape[1]\n",
    "    global g_k \n",
    "    g_k = clusters\n",
    "\n",
    "def farthest(points, mean):\n",
    "    max_dist = 0\n",
    "    best_point = mean[:,0]\n",
    "    for i in range(points.shape[0]):\n",
    "        dist = ((mean - points[i,:])**2).sum()\n",
    "        if dist > max_dist:\n",
    "            max_dist = dist\n",
    "            best_point = points[i,:]\n",
    "    return best_point\n",
    "    \n",
    "def pdf_alt(points, mean, cov):\n",
    "    points, mean, cov = np.asarray(points), np.asarray(mean), np.asarray(cov)\n",
    "    n = points.shape[0]\n",
    "    k = cov.shape[0] #number of clusters\n",
    "    prob = []\n",
    "    for i in range(k):\n",
    "        #For each cluser we calculate the\n",
    "        try:\n",
    "            prob.append(multivariate_normal.pdf(mean=mean[i], cov = cov[i], x = points))\n",
    "        except:\n",
    "            #So this cluster is empty now, and we need to handle this. We do this, by chosing\n",
    "            # a new mean, farthest from current means, and set cov to the identity matrix.\n",
    "            print(\"Cluster empty. Finding new mean.\")\n",
    "            mean[i] = farthest(points, mean)\n",
    "            cov[i] = np.identity(g_d)\n",
    "            prob.append(multivariate_normal.pdf(mean=mean[i], cov = cov[i], x = points))\n",
    "    prob = np.transpose(prob) # we turn it round so we have n x k results where n is number of points.\n",
    "    assert prob.shape == (n, k)\n",
    "    return prob\n",
    "\n",
    "def post_prob(fx, prior):\n",
    "    numerator = fx * prior\n",
    "    assert numerator.shape == (g_n, g_k)\n",
    "    denominator = numerator.sum(axis=1)\n",
    "    assert denominator.shape == (g_n,)\n",
    "    pcx = (numerator.T/denominator).T\n",
    "    assert pcx.shape == (g_n, g_k)\n",
    "    return pcx\n",
    "\n",
    "def calc_mean(w, points):\n",
    "    assert points.shape == (g_n, g_d)\n",
    "    assert w.shape ==(g_n, g_k)\n",
    "    numerator = (points.T @ w)\n",
    "    assert numerator.shape == (g_d,g_k)\n",
    "    denominator = w.sum(axis=0)\n",
    "    assert denominator.shape == (g_k,)\n",
    "    mean = (numerator/denominator)\n",
    "    assert mean.shape == (g_d, g_k)\n",
    "    return mean.T\n",
    "    \n",
    "def calc_cov(w, points, mean):\n",
    "    assert w.shape == (g_n, g_k)\n",
    "    assert points.shape == (g_n, g_d)\n",
    "    assert mean.shape == (g_k, g_d)\n",
    "    conv = []\n",
    "    for i in range(g_k):\n",
    "        w_ = w[:,i].reshape(g_n, 1)\n",
    "        assert w_.shape == (g_n, 1)\n",
    "        mean_ = mean[i,:].reshape(g_d, 1)\n",
    "        assert mean_.shape == (g_d, 1)\n",
    "        z = points.T - mean_\n",
    "        assert z.shape == (g_d, g_n)\n",
    "        numerator = np.dot((z * w_.T), z.T)\n",
    "        assert numerator.shape == (g_d, g_d)\n",
    "        denominator = w_.sum()\n",
    "        assert denominator.shape == ()\n",
    "        conv_ = numerator/denominator\n",
    "        assert conv_.shape == (g_d, g_d)\n",
    "        conv.append(conv_)\n",
    "    conv = np.asarray(conv)\n",
    "    assert conv.shape == (g_k, g_d, g_d)\n",
    "    return conv\n",
    "\n",
    "def calc_prior(w):\n",
    "    assert w.shape == (g_n, g_k)\n",
    "    prior = w.sum(axis=0)/g_n\n",
    "    assert prior.shape == (g_k,)\n",
    "    return prior\n",
    "        "
   ]
  },
  {
   "cell_type": "markdown",
   "metadata": {},
   "source": [
    "The following helper function computes the most likely class of each point under a given Gaussian Mixture."
   ]
  },
  {
   "cell_type": "code",
   "execution_count": 12,
   "metadata": {
    "collapsed": true
   },
   "outputs": [],
   "source": [
    "def most_likely(points, mean, cov, prior):\n",
    "    prob = pdf(points, mean, cov, prior)\n",
    "    return np.argmax(prob, axis=1)"
   ]
  },
  {
   "cell_type": "markdown",
   "metadata": {},
   "source": [
    "When implementing the Gaussian Mixture E-M algorithm, you may want to start out with the following code structure."
   ]
  },
  {
   "cell_type": "code",
   "execution_count": 13,
   "metadata": {
    "collapsed": false
   },
   "outputs": [],
   "source": [
    "def em(points, k, epsilon, mean=None, maxiter = 0):\n",
    "    init_glob(points, k)\n",
    "    \n",
    "    # Initialize mean if None supplied\n",
    "    if mean is None:\n",
    "        # Randomly pick k points\n",
    "        mean = np.zeros((g_k, g_d))\n",
    "        for i in range(g_d):\n",
    "            mean[:,i] = points[(np.random.choice(g_n, g_k)), i]\n",
    "    \n",
    "    # Initialize cov, prior\n",
    "    cov = np.asarray([np.identity(g_d)]*g_k)\n",
    "    assert cov.shape == (g_k, g_d, g_d)\n",
    "    prior = np.ones(shape=(k))/k\n",
    "    assert prior.shape == (g_k,)\n",
    "    old_mean = np.zeros_like(mean)\n",
    "    tired = False\n",
    "    q = 0\n",
    "    while not tired:\n",
    "        old_mean = mean\n",
    "\n",
    "        # Expectation step\n",
    "        fx = pdf_alt(points, mean, cov)\n",
    "        w = post_prob(fx, prior)\n",
    "        \n",
    "        # Maximization step\n",
    "        mean = calc_mean(w, points)\n",
    "        cov = calc_cov(w, points, mean)\n",
    "        prior = calc_prior(w)\n",
    "        \n",
    "        # Finish condition\n",
    "        dist = ((mean - old_mean)**2).sum()\n",
    "        tired = dist < epsilon\n",
    "        q += 1\n",
    "        \n",
    "        if q % 10 == 0:\n",
    "            print(\"Completede \" + str(q) + \" steps. Distance is \" + str(dist))\n",
    "        if maxiter > 0:\n",
    "            tired = q >= maxiter\n",
    "\n",
    "    # Validate output\n",
    "    print(\"\\rFinal dist was: \" + str(dist) + \" after \" + str(q) + \"iterations.\")\n",
    "    assert mean.shape == (g_k, g_d)\n",
    "    assert cov.shape == (g_k, g_d, g_d)\n",
    "    assert prior.shape == (g_k,)\n",
    "    return mean, cov, prior"
   ]
  },
  {
   "cell_type": "code",
   "execution_count": 14,
   "metadata": {
    "collapsed": true
   },
   "outputs": [],
   "source": [
    "def vote_labels(guessed, actual):\n",
    "    respons = np.zeros_like(guessed)\n",
    "    for l in np.unique(guessed):\n",
    "        vl = np.argmax(np.bincount(actual[guessed == l]))\n",
    "        respons[guessed == l] = vl\n",
    "    return respons"
   ]
  },
  {
   "cell_type": "code",
   "execution_count": 18,
   "metadata": {
    "collapsed": false,
    "scrolled": false
   },
   "outputs": [
    {
     "name": "stderr",
     "output_type": "stream",
     "text": [
      "C:\\Program Files\\Anaconda3\\lib\\site-packages\\ipykernel\\__main__.py:27: RuntimeWarning: divide by zero encountered in log\n"
     ]
    },
    {
     "data": {
      "text/plain": [
       "<matplotlib.figure.Figure at 0x1d56ed05358>"
      ]
     },
     "metadata": {},
     "output_type": "display_data"
    },
    {
     "data": {
      "image/png": "iVBORw0KGgoAAAANSUhEUgAAArYAAAK6CAYAAADMwR+XAAAABHNCSVQICAgIfAhkiAAAAAlwSFlz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\n",
      "text/plain": [
       "<matplotlib.figure.Figure at 0x1d570544b00>"
      ]
     },
     "metadata": {},
     "output_type": "display_data"
    }
   ],
   "source": [
    "# test em\n",
    "\n",
    "import sklearn.datasets\n",
    "iris = sklearn.datasets.load_iris()\n",
    "data = iris['data']\n",
    "labels = iris['target']\n",
    "\n",
    "plt.figure()\n",
    "\n",
<<<<<<< HEAD
    "mean, cov, prior, log_data = em(data, 3, 0.001, pad=0.3)#, maxiter=10000, log=True)\n",
=======
    "mean, cov, prior = em(data, 7, 0.0001)#,maxiter = 1000)\n",
>>>>>>> 01c4300f89a6ad51532985020e3098150eaa4e83
    "guessed_labels = most_likely(data, mean, cov, prior)\n",
    "voted_labels = vote_labels(guessed_labels, labels)\n",
    "plot_matrix(data, data, voted_labels, {0: 'o', 1: 's', 2: '^'}, figsize=(12, 12))"
   ]
  },
  {
   "cell_type": "code",
   "execution_count": null,
   "metadata": {
    "collapsed": true
   },
   "outputs": [],
   "source": []
  },
  {
   "cell_type": "markdown",
   "metadata": {},
   "source": [
    "### Cost function for the K-means problem\n",
    "\n",
    "To ensure that your implementation of the K-means algorithm is correct, you\n",
    "should implement the cost function (objective function / optimization goal)\n",
    "for the K-means problem. Print the cost after each iteration of the K-means\n",
    "algorithm -- the cost should be decreasing."
   ]
  },
  {
   "cell_type": "markdown",
   "metadata": {},
   "source": [
    "### Evaluating clusterings\n",
    "\n",
    "Implement the F1 score (build the contingency table p. 426, measure pp. 427-428)\n",
    "and the silhouette coefficient (pp. 444-445), and compare the quality of\n",
    "several runs of your algorithms with different values for *k*."
   ]
  },
  {
   "cell_type": "code",
   "execution_count": 86,
   "metadata": {
    "collapsed": false
   },
   "outputs": [
    {
     "name": "stderr",
     "output_type": "stream",
     "text": [
      "C:\\Program Files\\Anaconda3\\lib\\site-packages\\ipykernel\\__main__.py:58: VisibleDeprecationWarning: using a boolean instead of an integer will result in an error in the future\n"
     ]
    },
    {
     "data": {
      "text/plain": [
       "(array([0.571, 0.571]), 0.57051048459170728)"
      ]
     },
     "execution_count": 86,
     "metadata": {},
     "output_type": "execute_result"
    }
   ],
   "source": [
    "def f1(predicted, labels):\n",
    "    n, = predicted.shape\n",
    "    assert labels.shape == (n,)\n",
    "    r = np.max(predicted) + 1\n",
    "    k = np.max(labels) + 1\n",
    "\n",
    "    # Implement the F1 score here\n",
    "    contingency = np.zeros((r, k))\n",
    "    for i in range(r):\n",
    "        for j in range(k):\n",
    "            contingency[i,j] = np.sum(labels[predicted == i] == j)\n",
    "            \n",
    "    prec = np.zeros(r)\n",
    "    prec = np.nan_to_num(contingency.max(axis=1)/contingency.sum(axis=1))\n",
    "    recall = np.zeros(r)\n",
    "    i_max = contingency.argmax(axis=1)\n",
    "    recall = np.nan_to_num(contingency.max(axis=1)/(contingency.sum(axis=0))[i_max])\n",
    "    F_individual = 2*prec*recall/(prec+recall)\n",
    "    F_overall = F_individual.sum()/k\n",
    "\n",
    "    assert contingency.shape == (r, k)\n",
    "    return F_individual, F_overall, contingency\n",
    "\n",
    "def silhouette(data, predicted):\n",
    "    data = np.asarray(data)\n",
    "    n, d = data.shape\n",
    "    predicted = np.squeeze(np.asarray(predicted))\n",
    "    k = np.max(predicted) + 1\n",
    "    assert predicted.shape == (n,)\n",
    "    \n",
    "    dist = np.zeros([n,n])\n",
    "    for ifrom in range(n):\n",
    "        for ito in range(n):\n",
    "            dist[ifrom,ito] = np.sqrt(np.sum((data[ifrom]-data[ito])**2))\n",
    "            \n",
    "    # Implement the computation of the silhouette coefficient for each data point here.\n",
    "    a = np.zeros(n)\n",
    "    b = np.zeros(n)\n",
    "    s = np.zeros([n,])\n",
    "    for i in range(n): \n",
    "        b[i] = float('Inf')\n",
    "        for c in set(predicted):\n",
    "            dis = np.average(dist[i,predicted==c])\n",
    "            if c==predicted[i]:\n",
    "                a[i] = dis\n",
    "            elif dis<b[i]:\n",
    "                b[i] = dis\n",
    "        s[i] = (b[i] - a[i])/np.maximum(b[i], a[i])\n",
    "        \n",
    "    assert s.shape == (n,)\n",
    "    return s\n",
    "\n",
    "def sil(data, voted_labels, classes=None):\n",
    "    s = np.nan_to_num(silhouette(data, voted_labels))\n",
    "    if classes==None: classes = len(set(voted_labels))\n",
    "    cs = np.zeros(classes)\n",
    "    for idc, c in enumerate(set(voted_labels)):\n",
    "        cs[idc] = np.nan_to_num(np.average(s[voted_labels==c]))\n",
    "    return cs, np.sum(cs)/classes\n",
    "\n",
    "sil([[4,2,3,4], [1,7,3,5], [1,7,4,7], [1,7,4,8]], [1, 1, 2, 2])"
   ]
  },
  {
   "cell_type": "code",
   "execution_count": 36,
   "metadata": {
    "collapsed": false
   },
   "outputs": [
    {
     "name": "stdout",
     "output_type": "stream",
     "text": [
      "\n"
     ]
    },
    {
     "data": {
      "text/plain": [
       "(array([1.000, 0.667]), 0.55555555555555547, array([[50.000,     0,     0],\n",
       "        [    0, 50.000, 50.000]]))"
      ]
     },
     "execution_count": 36,
     "metadata": {},
     "output_type": "execute_result"
    }
   ],
   "source": [
    "f1(voted_labels, labels)"
   ]
  },
  {
   "cell_type": "code",
   "execution_count": null,
   "metadata": {
    "collapsed": true
   },
   "outputs": [],
   "source": []
  },
  {
   "cell_type": "code",
   "execution_count": null,
   "metadata": {
    "collapsed": false,
    "scrolled": false
   },
   "outputs": [
    {
     "name": "stderr",
     "output_type": "stream",
     "text": [
      "C:\\Program Files\\Anaconda3\\lib\\site-packages\\ipykernel\\__main__.py:48: RuntimeWarning: invalid value encountered in double_scalars\n",
      "C:\\Program Files\\Anaconda3\\lib\\site-packages\\ipykernel\\__main__.py:27: RuntimeWarning: divide by zero encountered in log\n",
      "C:\\Program Files\\Anaconda3\\lib\\site-packages\\ipykernel\\__main__.py:14: RuntimeWarning: invalid value encountered in true_divide\n",
      "C:\\Program Files\\Anaconda3\\lib\\site-packages\\ipykernel\\__main__.py:18: RuntimeWarning: invalid value encountered in true_divide\n",
      "C:\\Program Files\\Anaconda3\\lib\\site-packages\\ipykernel\\__main__.py:49: RuntimeWarning: invalid value encountered in true_divide\n",
      "C:\\Program Files\\Anaconda3\\lib\\site-packages\\ipykernel\\__main__.py:53: RuntimeWarning: invalid value encountered in true_divide\n"
     ]
    }
   ],
   "source": [
    "#### import sklearn.datasets\n",
    "iris = sklearn.datasets.load_iris()\n",
    "data = iris['data']\n",
    "labels = iris['target']\n",
    "\n",
    "plt.style.use('ggplot')\n",
    "\n",
    "\n",
    "repetitions = 10 # SKAL SÆTTES TIL >10\n",
    "kays = range(1,11) # SKAL SÆTTES TIL range(4,11)\n",
    "label_set = set(labels)\n",
    "err_free = True\n",
    "\n",
    "#plot settings\n",
    "pad_size = 0.15\n",
    "ylim =[-0.05,1.05]\n",
    "xlim = [1-2*pad_size,10+2*pad_size]\n",
    "\n",
    "\n",
    "KMresF1 = np.zeros([len(kays), (1+len(label_set)), repetitions])\n",
    "EMresF1 = np.zeros([len(kays), (1+len(label_set)), repetitions])\n",
    "KMresSil = np.ones([len(kays), (1+len(label_set)), repetitions])*-1\n",
    "EMresSil = np.ones([len(kays), (1+len(label_set)), repetitions])*-1\n",
    "\n",
    "if True:\n",
    "    for kay_idx, kay in enumerate(kays):\n",
    "        ## K-means\n",
    "        for rep in range(repetitions):\n",
    "            means = kmeans(data, kay, 0.00001)\n",
    "            guessed_labels = closest(data, means)\n",
    "            voted_labels = vote_labels(guessed_labels, labels)\n",
    "            # F1\n",
    "            res0, res1, res2 = f1(voted_labels, labels)\n",
    "            KMresF1[kay_idx,0:len(res0),rep] = np.asarray(res0)\n",
    "            KMresF1[kay_idx,-1,rep] = res1\n",
    "            \n",
    "            #Silhouette\n",
    "            res0, res1 = sil(data, voted_labels, 3)\n",
    "            KMresSil[kay_idx,0:len(res0),rep] = np.asarray(res0)\n",
    "            KMresSil[kay_idx,-1,rep] = res1\n",
    "\n",
    "            ## EM\n",
    "            try: #because singular_matrix errors is a thing\n",
    "                mean, cov, prior, _ = em(data, kay, 0.01, maxiter = 100)\n",
    "                guessed_labels = most_likely(data, mean, cov, prior)\n",
    "                voted_labels = vote_labels(guessed_labels, labels)\n",
    "                # F1\n",
    "                res0, res1, res2 = f1(voted_labels, labels)\n",
    "                EMresF1[kay_idx,0:len(res0),rep] = np.asarray(res0)\n",
    "                EMresF1[kay_idx,-1,rep] = res1\n",
    "            except:\n",
    "                #print(\"røv3\", kay)\n",
    "                err_free = False\n",
    "            try:\n",
    "                #Silhouette\n",
    "                res0, res1 = sil(data, voted_labels, 3)\n",
    "                EMresSil[kay_idx,0:len(res0),rep] = np.asarray(res0)\n",
    "                EMresSil[kay_idx,-1,rep] = res1\n",
    "            except:\n",
    "                #print(\"røv4\", kay)\n",
    "                err_free = False\n",
    "\n",
    "\n",
    "def plot_measure(results, kays, err, colors, labels, ax=None):\n",
    "    \n",
    "    pad = np.linspace(-pad_size, pad_size, num=len(colors)-1)\n",
    "    if ax==None:\n",
    "        fig, ax, _ = plt.figure()\n",
    "    for iii in range(len(colors)-1):\n",
    "        assert err[:,iii].shape == results[:,iii].shape\n",
    "        ax.errorbar(kays+pad[iii], results[:,iii], yerr=err[:,iii], fmt=colors[iii], label=labels[iii])\n",
    "    iii = len(colors)-1\n",
    "    ax.errorbar(kays, results[:,iii], fmt=colors[iii], label=labels[iii])\n",
    "    ax.set_xlim(xlim)\n",
    "\n",
    "\n",
    "#ax.errorbar(x, y, yerr=yerr, fmt='o')\n",
    "\n",
    "cluster_colors = ['ob', 'sg', '^r', '--k']\n",
    "cluster_labels = ['Cluster a', 'Cluster b', 'Cluster c', 'Average']\n",
    "\n",
    "\n",
    "fig, axs = plt.subplots(nrows=1, ncols=2, sharex=True, sharey=True, figsize=(12,3))\n",
    "plot_measure(np.average(KMresF1,  axis=2), kays, np.std(KMresF1,  axis=2), cluster_colors, cluster_labels, axs[0])\n",
    "plot_measure(np.average(EMresF1,  axis=2), kays, np.std(EMresF1,  axis=2), cluster_colors, cluster_labels, axs[1])\n",
    "axs[0].set_title(\"K-means clustering\")\n",
    "axs[1].set_title(\"GM-Expectations Maximization clustering\")\n",
    "axs[0].set_ylabel(\"F1 score\")\n",
    "axs[0].set_xlabel(\"Number of clusters, K\")\n",
    "axs[1].set_xlabel(\"Number of clusters, K\")\n",
    "axs[0].set_ylim([0,1])\n",
    "axs[0].legend(loc = 'lower center', bbox_to_anchor = (0,-0.1,1,1), bbox_transform = plt.gcf().transFigure, ncol=4)\n",
    "plt.tight_layout()\n",
    "\n",
    "fig, axs = plt.subplots(nrows=1, ncols=2, sharex=True, sharey=True, figsize=(12,3))\n",
    "plot_measure(np.average(KMresSil, axis=2), kays, np.std(KMresSil, axis=2),cluster_colors, cluster_labels, axs[0])\n",
    "plot_measure(np.average(EMresSil, axis=2), kays, np.std(EMresSil, axis=2),cluster_colors, cluster_labels, axs[1])\n",
    "axs[0].set_title(\"K-means clustering\")\n",
    "axs[1].set_title(\"GM-Expectations Maximization clustering\")\n",
    "axs[0].set_ylabel(\"Silhouette measure\")\n",
    "axs[0].set_xlabel(\"Number of clusters, K\")\n",
    "axs[1].set_xlabel(\"Number of clusters, K\")\n",
    "axs[1].set_ylim([-1,1])\n",
    "axs[0].legend(loc = 'lower center', bbox_to_anchor = (0,-0.1,1,1), bbox_transform = plt.gcf().transFigure, ncol=4)\n",
    "plt.tight_layout()\n",
    "\n",
    "assert err_free"
   ]
  },
  {
   "cell_type": "markdown",
   "metadata": {},
   "source": [
    "### Initializing EM\n",
    "\n",
    "In order to determine an initial set of cluster centers for EM, one can\n",
    "utilize the best centroids determined by k-means. For this, run k-means\n",
    "several times, and choose the best one. You are asked to do this for the 2d\n",
    "and 4d IRIS data set and to compare with your earlier results."
   ]
  },
  {
   "cell_type": "markdown",
   "metadata": {},
   "source": [
    "### Image compression\n",
    "\n",
    "You are provided with two images that you are asked to subject to clustering\n",
    "in order to find the most representative colors for the two images. Use these\n",
    "results to display a compressed version of the images.\n",
    "\n",
    "You may use a function like the following to run K-means on an image."
   ]
  },
  {
   "cell_type": "code",
   "execution_count": null,
   "metadata": {
    "collapsed": false
   },
   "outputs": [],
   "source": [
    "def compress_kmeans(im, k=4):\n",
    "    height, width, depth = im.shape\n",
    "\n",
    "    data = im.reshape((height * width, depth))\n",
    "    centers = kmeans(data, k, 1e-2)\n",
    "    rep = closest(data, centers)\n",
    "    data_compressed = centers[rep]\n",
    "\n",
    "    im_compressed = data_compressed.reshape((height, width, depth))\n",
    "    plt.figure()\n",
    "    plt.imshow(im_compressed)\n",
    "    plt.show()\n",
    "\n",
    "def compress_facade(k=4):\n",
    "    img_facade = download_image('https://users-cs.au.dk/rav/ml/handins/h4/nygaard_facade.jpg')\n",
    "    compress_kmeans(img_facade, k=k)\n",
    "\n",
    "def compress_stairs(k=4):\n",
    "    img_stairs = download_image('https://users-cs.au.dk/rav/ml/handins/h4/nygaard_stairs.jpg')\n",
    "    compress_kmeans(img_stairs, k=k)\n",
    "    \n",
    "compress_facade()\n",
    "compress_stairs()"
   ]
  },
  {
   "cell_type": "markdown",
   "metadata": {},
   "source": [
    "## Report\n",
    "\n",
    "Your report should be no more than 3 pages and clearly state who is in the\n",
    "group. It must cover:\n",
    "\n",
    "* The status of the work, i.e., does it work, if not, then why.\n",
    "* A discussion of plots of at least two runs of your algorithm\n",
    "  implementations detailing what you can see. Make sure that you relate this\n",
    "  to the discussion in the lecture or textbook about the strengths and\n",
    "  weaknesses of the algorithms.\n",
    "* A discussion of plots of the evaluation measures F1 and silhouette\n",
    "  coefficient, detailing what you can learn from them. Include an explanation\n",
    "  of what the evaluation measures reflect.\n",
    "* Describe how you can use one of the clustering algorithms for image\n",
    "  compression, and demonstrate the results for at least one algorithm on both\n",
    "  images, discussing their quality and giving a reasoning for the differences."
   ]
  }
 ],
 "metadata": {
  "anaconda-cloud": {},
  "kernelspec": {
   "display_name": "Python [Root]",
   "language": "python",
   "name": "Python [Root]"
  },
  "language_info": {
   "codemirror_mode": {
    "name": "ipython",
    "version": 3
   },
   "file_extension": ".py",
   "mimetype": "text/x-python",
   "name": "python",
   "nbconvert_exporter": "python",
   "pygments_lexer": "ipython3",
   "version": "3.5.2"
  }
 },
 "nbformat": 4,
 "nbformat_minor": 1
}
