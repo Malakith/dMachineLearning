{
 "cells": [
  {
   "cell_type": "code",
   "execution_count": 9,
   "metadata": {
    "collapsed": true
   },
   "outputs": [],
   "source": [
    "from scipy.stats import multivariate_normal\n",
    "import numpy as np\n",
    "def pdf(points, mean, cov, prior):\n",
    "    points, mean, cov = np.asarray(points), np.asarray(mean), np.asarray(cov)\n",
    "    prior = np.asarray(prior)\n",
    "    n, d = points.shape\n",
    "    k, d_1 = mean.shape\n",
    "    k_2, d_2, d_3 = cov.shape\n",
    "    k_3, = prior.shape\n",
    "    assert d == d_1 == d_2 == d_3\n",
    "    assert k == k_2 == k_3, \"%s %s %s should be equal\" % (k, k_2, k_3)\n",
    "\n",
    "    # Compute probabilities\n",
    "    prob = []\n",
    "    for i in range(k):\n",
    "        if prior[i] < 1 / k ** 3:\n",
    "            prob.append(np.zeros(n))\n",
    "        else:\n",
    "            prob.append(\n",
    "                prior[i] *\n",
    "                multivariate_normal.pdf(\n",
    "                    mean=mean[i], cov=cov[i], x=points))\n",
    "    prob = np.transpose(prob)  # n x k\n",
    "    # Normalize cluster probabilities of each point\n",
    "    prob = prob / np.sum(prob, axis=1, keepdims=True)  # n x k\n",
    "\n",
    "    assert prob.shape == (n, k)\n",
    "    assert np.allclose(prob.sum(axis=1), 1)\n",
    "    return prob"
   ]
  },
  {
   "cell_type": "code",
   "execution_count": 10,
   "metadata": {
    "collapsed": false
   },
   "outputs": [],
   "source": [
    "def most_likely(points, mean, cov, prior):\n",
    "    prob = pdf(points, mean, cov, prior)\n",
    "    return np.argmax(prob, axis=1)"
   ]
  },
  {
   "cell_type": "code",
   "execution_count": 11,
   "metadata": {
    "collapsed": true
   },
   "outputs": [],
   "source": [
    "testPoints = np.random.rand(150, 4)"
   ]
  },
  {
   "cell_type": "code",
   "execution_count": 5,
   "metadata": {
    "collapsed": false
   },
   "outputs": [
    {
     "ename": "AttributeError",
     "evalue": "module 'numpy' has no attribute 'INF'",
     "output_type": "error",
     "traceback": [
      "\u001b[0;31m---------------------------------------------------------------------------\u001b[0m",
      "\u001b[0;31mAttributeError\u001b[0m                            Traceback (most recent call last)",
      "\u001b[0;32m<ipython-input-5-4a408317ed52>\u001b[0m in \u001b[0;36m<module>\u001b[0;34m()\u001b[0m\n\u001b[1;32m      1\u001b[0m \u001b[0mQ\u001b[0m \u001b[1;33m=\u001b[0m \u001b[0mnp\u001b[0m\u001b[1;33m.\u001b[0m\u001b[0mzeros\u001b[0m\u001b[1;33m(\u001b[0m\u001b[1;36m4\u001b[0m\u001b[1;33m)\u001b[0m\u001b[1;33m\u001b[0m\u001b[0m\n\u001b[0;32m----> 2\u001b[0;31m \u001b[0mQ\u001b[0m\u001b[1;33m[\u001b[0m\u001b[1;33m:\u001b[0m\u001b[1;33m]\u001b[0m \u001b[1;33m=\u001b[0m \u001b[0mnp\u001b[0m\u001b[1;33m.\u001b[0m\u001b[0mINF\u001b[0m\u001b[1;33m\u001b[0m\u001b[0m\n\u001b[0m\u001b[1;32m      3\u001b[0m \u001b[0mprint\u001b[0m\u001b[1;33m(\u001b[0m\u001b[0mQ\u001b[0m\u001b[1;33m)\u001b[0m\u001b[1;33m\u001b[0m\u001b[0m\n\u001b[1;32m      4\u001b[0m \u001b[0mprint\u001b[0m\u001b[1;33m(\u001b[0m\u001b[0mQ\u001b[0m\u001b[1;33m**\u001b[0m\u001b[1;36m2\u001b[0m\u001b[1;33m)\u001b[0m\u001b[1;33m\u001b[0m\u001b[0m\n\u001b[1;32m      5\u001b[0m \u001b[0mprint\u001b[0m\u001b[1;33m(\u001b[0m\u001b[0mnp\u001b[0m\u001b[1;33m.\u001b[0m\u001b[0msqrt\u001b[0m\u001b[1;33m(\u001b[0m\u001b[0mQ\u001b[0m\u001b[1;33m**\u001b[0m\u001b[1;36m2\u001b[0m\u001b[1;33m)\u001b[0m\u001b[1;33m)\u001b[0m\u001b[1;33m\u001b[0m\u001b[0m\n",
      "\u001b[0;31mAttributeError\u001b[0m: module 'numpy' has no attribute 'INF'"
     ]
    }
   ],
   "source": [
    "Q = np.zeros(4)\n",
    "Q[:] = np.INF\n",
    "print(Q)\n",
    "print(Q**2)\n",
    "print(np.sqrt(Q**2))"
   ]
  },
  {
   "cell_type": "code",
   "execution_count": 13,
   "metadata": {
    "collapsed": false
   },
   "outputs": [
    {
     "name": "stdout",
     "output_type": "stream",
     "text": [
      "BOOOOM\n",
      "[[ 0.47501648  0.47230456  0.47142533  0.48654338]\n",
      " [ 0.50312347  0.45625076  0.47943027  0.49063578]\n",
      " [ 0.45321229  0.44108806  0.44290565  0.47586246]]\n",
      "[[ 0.34347158  0.58796616  0.55614386  0.13607501]\n",
      " [ 0.73799226  0.41735911  0.64284056  0.14508976]\n",
      " [ 0.01707551  0.17112457  0.17112536  0.07968726]]\n",
      "[ 0.4008578   0.45031198  0.70279079]\n",
      "Number of points below threshold: 0\n",
      "BOOOOM\n",
      "[[ 0.47918842  0.46735608  0.45679605  0.47279508]\n",
      " [ 0.48620641  0.44914408  0.47716256  0.49558651]\n",
      " [ 0.45931731  0.44310853  0.47074886  0.50079822]]\n",
      "[[ 0.47501648  0.47230456  0.47142533  0.48654338]\n",
      " [ 0.50312347  0.45625076  0.47943027  0.49063578]\n",
      " [ 0.45321229  0.44108806  0.44290565  0.47586246]]\n",
      "[ 0.02109322  0.01914012  0.03792612]\n",
      "Number of points below threshold: 0\n",
      "BOOOOM\n",
      "[[ 0.48235767  0.46361147  0.45189657  0.46803306]\n",
      " [ 0.47115182  0.44361664  0.49566691  0.52069052]\n",
      " [ 0.4568272   0.44505062  0.50302134  0.5320063 ]]\n",
      "[[ 0.47918842  0.46735608  0.45679605  0.47279508]\n",
      " [ 0.48620641  0.44914408  0.47716256  0.49558651]\n",
      " [ 0.45931731  0.44310853  0.47074886  0.50079822]]\n",
      "[ 0.00841118  0.03506873  0.04500477]\n",
      "Number of points below threshold: 0\n",
      "BOOOOM\n",
      "[[ 0.48287145  0.46015883  0.45614701  0.47325543]\n",
      " [ 0.4531363   0.44244991  0.51914921  0.54897105]\n",
      " [ 0.44811229  0.44899103  0.52261477  0.54974162]]\n",
      "[[ 0.48235767  0.46361147  0.45189657  0.46803306]\n",
      " [ 0.47115182  0.44361664  0.49566691  0.52069052]\n",
      " [ 0.4568272   0.44505062  0.50302134  0.5320063 ]]\n",
      "[ 0.00758446  0.04095274  0.02810553]\n",
      "Number of points below threshold: 0\n",
      "BOOOOM\n",
      "[[ 0.47970201  0.4578203   0.46356589  0.4822107 ]\n",
      " [ 0.43873029  0.44713789  0.52914763  0.5597728 ]\n",
      " [ 0.          0.          0.          0.        ]]\n",
      "[[ 0.48287145  0.46015883  0.45614701  0.47325543]\n",
      " [ 0.4531363   0.44244991  0.51914921  0.54897105]\n",
      " [ 0.44811229  0.44899103  0.52261477  0.54974162]]\n",
      "[ 0.01227806  0.02112242  0.98880717]\n",
      "Number of points below threshold: 0\n",
      "BOOOOM\n",
      "[[ 0.47833365  0.45746353  0.46575617  0.48480109]\n",
      " [ 0.          0.          0.          0.        ]\n",
      " [ 0.          0.          0.          0.        ]]\n",
      "[[ 0.47970201  0.4578203   0.46356589  0.4822107 ]\n",
      " [ 0.43873029  0.44713789  0.52914763  0.5597728 ]\n",
      " [ 0.          0.          0.          0.        ]]\n",
      "[ 0.00367521  0.99285415  0.        ]\n",
      "Number of points below threshold: 2\n",
      "BOOOOM\n",
      "[[ 0.47833365  0.45746353  0.46575617  0.48480109]\n",
      " [ 0.          0.          0.          0.        ]\n",
      " [ 0.          0.          0.          0.        ]]\n",
      "[[ 0.47833365  0.45746353  0.46575617  0.48480109]\n",
      " [ 0.          0.          0.          0.        ]\n",
      " [ 0.          0.          0.          0.        ]]\n",
      "[ 0.  0.  0.]\n",
      "Number of points below threshold: 3\n"
     ]
    },
    {
     "name": "stderr",
     "output_type": "stream",
     "text": [
      "C:\\Users\\Morten\\Anaconda3\\lib\\site-packages\\ipykernel\\__main__.py:27: RuntimeWarning: invalid value encountered in true_divide\n",
      "C:\\Users\\Morten\\Anaconda3\\lib\\site-packages\\ipykernel\\__main__.py:33: RuntimeWarning: divide by zero encountered in true_divide\n"
     ]
    },
    {
     "data": {
      "text/plain": [
       "(array([[ 0.47833365,  0.45746353,  0.46575617,  0.48480109],\n",
       "        [ 0.        ,  0.        ,  0.        ,  0.        ],\n",
       "        [ 0.        ,  0.        ,  0.        ,  0.        ]]),\n",
       " array([[[  6.88525370e-002,  -4.38743458e-003,   2.63604111e-003,\n",
       "            5.75296329e-003],\n",
       "         [ -4.38743458e-003,   8.14750130e-002,  -2.82132931e-003,\n",
       "            1.04886393e-004],\n",
       "         [  2.63604111e-003,  -2.82132931e-003,   7.49488897e-002,\n",
       "            1.16027102e-002],\n",
       "         [  5.75296329e-003,   1.04886393e-004,   1.16027102e-002,\n",
       "            8.25538787e-002]],\n",
       " \n",
       "        [[  1.79769313e+308,  -1.79769313e+308,   1.79769313e+308,\n",
       "            1.79769313e+308],\n",
       "         [ -1.79769313e+308,   1.79769313e+308,  -1.79769313e+308,\n",
       "            1.79769313e+308],\n",
       "         [  1.79769313e+308,  -1.79769313e+308,   1.79769313e+308,\n",
       "            1.79769313e+308],\n",
       "         [  1.79769313e+308,   1.79769313e+308,   1.79769313e+308,\n",
       "            1.79769313e+308]],\n",
       " \n",
       "        [[  1.79769313e+308,  -1.79769313e+308,   1.79769313e+308,\n",
       "            1.79769313e+308],\n",
       "         [ -1.79769313e+308,   1.79769313e+308,  -1.79769313e+308,\n",
       "            1.79769313e+308],\n",
       "         [  1.79769313e+308,  -1.79769313e+308,   1.79769313e+308,\n",
       "            1.79769313e+308],\n",
       "         [  1.79769313e+308,   1.79769313e+308,   1.79769313e+308,\n",
       "            1.79769313e+308]]]),\n",
       " array([ 1.,  0.,  0.]))"
      ]
     },
     "execution_count": 13,
     "metadata": {},
     "output_type": "execute_result"
    }
   ],
   "source": [
    "def em(points, k, epsilon, mean=None):\n",
    "    points = np.asarray(points)\n",
    "    n, d = points.shape\n",
    "    # Initialize and validate mean\n",
    "    if mean is None:\n",
    "        # Randomly pick k points\n",
    "        mean = points[np.random.choice(range(n), size=k, replace=False)]\n",
    "        #mean = points[list(range(k))] #For testing\n",
    "    # Validate input\n",
    "    mean = np.asarray(mean)\n",
    "    k_, d_ = mean.shape\n",
    "    assert k == k_\n",
    "    assert d == d_\n",
    "    # Initialize cov, prior\n",
    "    cov = np.asarray([np.identity(d)]*k)\n",
    "    prior = np.ones(shape=(k))/k\n",
    "    tired = False\n",
    "    old_mean = np.zeros_like(mean)\n",
    "    while not tired:\n",
    "        old_mean[:] = mean\n",
    "\n",
    "        # Expectation step\n",
    "        exp = pdf(points, mean, cov, prior)\n",
    "        # Maximization step\n",
    "        prior = exp.sum(axis=0)/n\n",
    "        expSum = exp.sum(axis=0)\n",
    "        mean =  np.nan_to_num((np.dot(points.T, exp)/expSum).T)\n",
    "        num = 0\n",
    "        for i in range(k):\n",
    "            for j in range(n):\n",
    "                sub = (points[j, :]-mean[i, :])[:, np.newaxis]\n",
    "                num += exp[j, i] * (sub * sub.T)\n",
    "            cov[i] = np.nan_to_num(num/expSum[i])\n",
    "        # Finish condition\n",
    "        print(\"BOOOOM\")\n",
    "        print(mean)\n",
    "        print(old_mean)\n",
    "        dist = np.sqrt(((mean - old_mean) ** 2).sum(axis=1))\n",
    "        \n",
    "        print(dist)\n",
    "        tired = np.all(dist < epsilon)\n",
    "        print(\"Number of points below threshold: \" + str((dist < epsilon).sum()))\n",
    "\n",
    "    # Validate output\n",
    "    assert mean.shape == (k, d)\n",
    "    assert cov.shape == (k, d, d)\n",
    "    assert prior.shape == (k,)\n",
    "    return mean, cov, prior\n",
    "\n",
    "\n",
    "em(testPoints, 3, 0.005)"
   ]
  }
 ],
 "metadata": {
  "anaconda-cloud": {},
  "kernelspec": {
   "display_name": "Python [default]",
   "language": "python",
   "name": "python3"
  },
  "language_info": {
   "codemirror_mode": {
    "name": "ipython",
    "version": 3
   },
   "file_extension": ".py",
   "mimetype": "text/x-python",
   "name": "python",
   "nbconvert_exporter": "python",
   "pygments_lexer": "ipython3",
   "version": "3.5.2"
  }
 },
 "nbformat": 4,
 "nbformat_minor": 1
}
