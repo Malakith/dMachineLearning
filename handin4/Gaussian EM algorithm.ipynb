{
 "cells": [
  {
   "cell_type": "code",
   "execution_count": 1,
   "metadata": {
    "collapsed": true
   },
   "outputs": [],
   "source": [
    "from scipy.stats import multivariate_normal\n",
    "def pdf(points, mean, cov, prior):\n",
    "    points, mean, cov = np.asarray(points), np.asarray(mean), np.asarray(cov)\n",
    "    prior = np.asarray(prior)\n",
    "    n, d = points.shape\n",
    "    k, d_1 = mean.shape\n",
    "    k_2, d_2, d_3 = cov.shape\n",
    "    k_3, = prior.shape\n",
    "    assert d == d_1 == d_2 == d_3\n",
    "    assert k == k_2 == k_3, \"%s %s %s should be equal\" % (k, k_2, k_3)\n",
    "\n",
    "    # Compute probabilities\n",
    "    prob = []\n",
    "    for i in range(k):\n",
    "        if prior[i] < 1 / k ** 3:\n",
    "            prob.append(np.zeros(n))\n",
    "        else:\n",
    "            prob.append(\n",
    "                prior[i] *\n",
    "                multivariate_normal.pdf(\n",
    "                    mean=mean[i], cov=cov[i], x=points))\n",
    "    prob = np.transpose(prob)  # n x k\n",
    "    # Normalize cluster probabilities of each point\n",
    "    prob = prob / np.sum(prob, axis=1, keepdims=True)  # n x k\n",
    "\n",
    "    assert prob.shape == (n, k)\n",
    "    assert np.allclose(prob.sum(axis=1), 1)\n",
    "    return prob"
   ]
  },
  {
   "cell_type": "code",
   "execution_count": null,
   "metadata": {
    "collapsed": true
   },
   "outputs": [],
   "source": [
    "def most_likely(points, mean, cov, prior):\n",
    "    prob = pdf(points, mean, cov, prior)\n",
    "    return np.argmax(prob, axis=1)"
   ]
  },
  {
   "cell_type": "code",
   "execution_count": null,
   "metadata": {
    "collapsed": true
   },
   "outputs": [],
   "source": [
    "def em(points, k, epsilon, mean=None):\n",
    "    points = np.asarray(points)\n",
    "    n, d = points.shape\n",
    "\n",
    "    # Initialize and validate mean\n",
    "    if mean is None:\n",
    "        # Randomly pick k points\n",
    "        TODO\n",
    "\n",
    "    # Validate input\n",
    "    mean = np.asarray(mean)\n",
    "    k_, d_ = mean.shape\n",
    "    assert k == k_\n",
    "    assert d == d_\n",
    "\n",
    "    # Initialize cov, prior\n",
    "    cov = ...\n",
    "    prior = ...\n",
    "\n",
    "    tired = False\n",
    "    old_mean = np.zeros_like(mean)\n",
    "    while not tired:\n",
    "        old_mean[:] = mean\n",
    "\n",
    "        # Expectation step\n",
    "        TODO\n",
    "\n",
    "        # Maximization step\n",
    "        TODO\n",
    "\n",
    "        # Finish condition\n",
    "        dist = np.sqrt(((mean - old_mean) ** 2).sum(axis=1))\n",
    "        tired = np.all(dist < epsilon)\n",
    "\n",
    "    # Validate output\n",
    "    assert mean.shape == (k, d)\n",
    "    assert cov.shape == (k, d, d)\n",
    "    assert prior.shape == (k,)\n",
    "    return mean, cov, prior"
   ]
  }
 ],
 "metadata": {
  "anaconda-cloud": {},
  "kernelspec": {
   "display_name": "Python [conda root]",
   "language": "python",
   "name": "conda-root-py"
  },
  "language_info": {
   "codemirror_mode": {
    "name": "ipython",
    "version": 3
   },
   "file_extension": ".py",
   "mimetype": "text/x-python",
   "name": "python",
   "nbconvert_exporter": "python",
   "pygments_lexer": "ipython3",
   "version": "3.5.2"
  }
 },
 "nbformat": 4,
 "nbformat_minor": 1
}
